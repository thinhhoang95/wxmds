{
 "cells": [
  {
   "cell_type": "code",
   "execution_count": 1,
   "metadata": {},
   "outputs": [
    {
     "name": "stdout",
     "output_type": "stream",
     "text": [
      "FullyConnectedNetwork(\n",
      "  (fc1): Linear(in_features=625, out_features=512, bias=True)\n",
      "  (dropout1): Dropout(p=0.5, inplace=False)\n",
      "  (fc2): Linear(in_features=512, out_features=256, bias=True)\n",
      "  (dropout2): Dropout(p=0.5, inplace=False)\n",
      "  (fc3): Linear(in_features=256, out_features=128, bias=True)\n",
      "  (fc4): Linear(in_features=128, out_features=15, bias=True)\n",
      ")\n"
     ]
    }
   ],
   "source": [
    "import torch\n",
    "import torch.nn as nn\n",
    "import torch.nn.functional as F\n",
    "\n",
    "class FullyConnectedNetwork(nn.Module):\n",
    "    def __init__(self):\n",
    "        super(FullyConnectedNetwork, self).__init__()\n",
    "        \n",
    "        # First fully connected layer\n",
    "        self.fc1 = nn.Linear(25 * 25, 512)\n",
    "        self.dropout1 = nn.Dropout(0.5)\n",
    "\n",
    "        # Second fully connected layer\n",
    "        self.fc2 = nn.Linear(512, 256)\n",
    "        self.dropout2 = nn.Dropout(0.5)\n",
    "\n",
    "        # Third fully connected layer\n",
    "        self.fc3 = nn.Linear(256, 128)\n",
    "\n",
    "        # Output layer\n",
    "        self.fc4 = nn.Linear(128, 15)\n",
    "\n",
    "    def forward(self, x):\n",
    "        # Flatten the image input\n",
    "        x = x.view(x.size(0), -1)\n",
    "\n",
    "        # Pass through the first layer, apply ReLU and dropout\n",
    "        x = F.relu(self.fc1(x))\n",
    "        x = self.dropout1(x)\n",
    "\n",
    "        # Second layer\n",
    "        x = F.relu(self.fc2(x))\n",
    "        x = self.dropout2(x)\n",
    "\n",
    "        # Third layer\n",
    "        x = F.relu(self.fc3(x))\n",
    "\n",
    "        # Output layer with softmax activation\n",
    "        x = self.fc4(x)\n",
    "        x = F.log_softmax(x, dim=1)\n",
    "        return x\n",
    "\n",
    "# Create the neural network\n",
    "model = FullyConnectedNetwork()\n",
    "\n",
    "# Print the model structure\n",
    "print(model)\n"
   ]
  },
  {
   "cell_type": "code",
   "execution_count": 2,
   "metadata": {},
   "outputs": [],
   "source": [
    "class StormShadow(torch.utils.data.Dataset):\n",
    "    def __init__(self, data, labels):\n",
    "        self.data = data\n",
    "        self.labels = labels\n",
    "\n",
    "    def __len__(self):\n",
    "        return len(self.data)\n",
    "\n",
    "    def __getitem__(self, idx):\n",
    "        sample = self.data[idx, :, :]\n",
    "        label = self.labels[idx, :]\n",
    "        return sample, label"
   ]
  },
  {
   "cell_type": "markdown",
   "metadata": {},
   "source": [
    "# Load the data"
   ]
  },
  {
   "cell_type": "code",
   "execution_count": 6,
   "metadata": {},
   "outputs": [
    {
     "name": "stderr",
     "output_type": "stream",
     "text": [
      "100%|██████████| 5625/5625 [00:00<00:00, 312448.15it/s]"
     ]
    },
    {
     "name": "stdout",
     "output_type": "stream",
     "text": [
      "3414\n"
     ]
    },
    {
     "name": "stderr",
     "output_type": "stream",
     "text": [
      "\n"
     ]
    }
   ],
   "source": [
    "import xarray as xr \n",
    "vil_ds = xr.open_zarr('../hrrr17x.zarr/')\n",
    "vil_dr = vil_ds.VIL\n",
    "# Get all the file names in bystormlabels folder\n",
    "from tqdm import tqdm\n",
    "import numpy as np \n",
    "import os\n",
    "\n",
    "labels = np.zeros((5625, 15))\n",
    "\n",
    "for date_str in tqdm(vil_dr.attrs['date']):\n",
    "    # Replace : with _ in date_str\n",
    "    filename_to_open = date_str.replace(':', '_')\n",
    "    # check if the file exists\n",
    "    if not os.path.isfile('bystormlabels/' + filename_to_open + '.npz'):\n",
    "        continue\n",
    "    labell = np.load('bystormlabels/' + filename_to_open + '.npz')['arr_0']\n",
    "    frequency_vector = np.array([(labell==i).sum() for i in range(15)])\n",
    "    if frequency_vector.sum() == 0:\n",
    "        continue\n",
    "    else:\n",
    "        print(vil_dr.attrs['date'].index(date_str))\n",
    "    labels[vil_dr.attrs['date'].index(date_str)] = frequency_vector\n",
    "vil_input = vil_dr.values"
   ]
  },
  {
   "cell_type": "code",
   "execution_count": 7,
   "metadata": {},
   "outputs": [],
   "source": [
    "# Convert to tensor\n",
    "vil_tensor = torch.from_numpy(vil_input)\n",
    "labels_tensor = torch.from_numpy(labels)"
   ]
  },
  {
   "cell_type": "code",
   "execution_count": 9,
   "metadata": {},
   "outputs": [
    {
     "name": "stdout",
     "output_type": "stream",
     "text": [
      "Epoch 1/10, Loss: -0.0\n",
      "Epoch 2/10, Loss: -0.0\n",
      "Epoch 3/10, Loss: -0.0\n",
      "Epoch 4/10, Loss: -0.0\n",
      "Epoch 5/10, Loss: -0.0\n",
      "Epoch 6/10, Loss: -0.0\n",
      "Epoch 7/10, Loss: -0.0\n",
      "Epoch 8/10, Loss: -0.0\n",
      "Epoch 9/10, Loss: -0.0\n",
      "Epoch 10/10, Loss: -0.0\n"
     ]
    }
   ],
   "source": [
    "# Create dataset\n",
    "dataset = StormShadow(vil_tensor, labels_tensor)\n",
    "train_loader = torch.utils.data.DataLoader(dataset, batch_size=64, shuffle=True)\n",
    "\n",
    "# Define the model\n",
    "model = FullyConnectedNetwork()\n",
    "\n",
    "# Define the loss\n",
    "criterion = nn.CrossEntropyLoss()\n",
    "\n",
    "# Define the optimizer\n",
    "optimizer = torch.optim.Adam(model.parameters(), lr=0.001)\n",
    "\n",
    "# Number of epochs to train the model\n",
    "n_epochs = 10\n",
    "\n",
    "# Training loop\n",
    "for epoch in range(n_epochs):\n",
    "    for data, target in train_loader:\n",
    "        # Zero the gradients\n",
    "        optimizer.zero_grad()\n",
    "        \n",
    "        # Forward pass\n",
    "        output = model(data)\n",
    "        \n",
    "        # Compute the loss\n",
    "        loss = criterion(output, target)\n",
    "        \n",
    "        # Backward pass and optimize\n",
    "        loss.backward()\n",
    "        optimizer.step()\n",
    "    \n",
    "    print(f'Epoch {epoch+1}/{n_epochs}, Loss: {loss.item()}')"
   ]
  },
  {
   "cell_type": "code",
   "execution_count": 10,
   "metadata": {},
   "outputs": [
    {
     "data": {
      "text/plain": [
       "tensor([[-2.8590, -2.8626, -2.7978, -2.5336, -2.9397, -1.9958, -2.6702, -2.7409,\n",
       "         -2.7764, -2.9866, -2.8852, -2.8088, -2.9817, -2.6740, -2.6013]],\n",
       "       grad_fn=<LogSoftmaxBackward0>)"
      ]
     },
     "execution_count": 10,
     "metadata": {},
     "output_type": "execute_result"
    }
   ],
   "source": [
    "model(torch.randn(1, 25, 25))"
   ]
  },
  {
   "cell_type": "code",
   "execution_count": null,
   "metadata": {},
   "outputs": [],
   "source": []
  }
 ],
 "metadata": {
  "kernelspec": {
   "display_name": "traffic",
   "language": "python",
   "name": "python3"
  },
  "language_info": {
   "codemirror_mode": {
    "name": "ipython",
    "version": 3
   },
   "file_extension": ".py",
   "mimetype": "text/x-python",
   "name": "python",
   "nbconvert_exporter": "python",
   "pygments_lexer": "ipython3",
   "version": "3.9.13"
  }
 },
 "nbformat": 4,
 "nbformat_minor": 2
}
