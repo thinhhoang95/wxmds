{
 "cells": [
  {
   "cell_type": "code",
   "execution_count": 1,
   "metadata": {},
   "outputs": [],
   "source": [
    "import xarray as xr "
   ]
  },
  {
   "cell_type": "code",
   "execution_count": 5,
   "metadata": {},
   "outputs": [],
   "source": [
    "vil_ds = xr.open_zarr('../hrrr17x.zarr/')\n",
    "vil_dr = vil_ds.VIL"
   ]
  },
  {
   "cell_type": "code",
   "execution_count": 24,
   "metadata": {},
   "outputs": [
    {
     "name": "stderr",
     "output_type": "stream",
     "text": [
      "100%|██████████| 5625/5625 [00:00<00:00, 280841.82it/s]\n"
     ]
    }
   ],
   "source": [
    "# Get all the file names in bystormlabels folder\n",
    "from tqdm import tqdm\n",
    "import numpy as np \n",
    "import os\n",
    "\n",
    "labels = np.zeros((5625, 15))\n",
    "\n",
    "for date_str in tqdm(vil_dr.attrs['date']):\n",
    "    # Replace : with _ in date_str\n",
    "    filename_to_open = date_str.replace(':', '_')\n",
    "    # check if the file exists\n",
    "    if not os.path.isfile('bystormlabels/' + filename_to_open + '.npz'):\n",
    "        continue\n",
    "    labell = np.load('bystormlabels/' + filename_to_open + '.npz')['arr_0']\n",
    "    frequency_vector = [(labell==i).sum() for i in range(15)]\n",
    "    labels[vil_dr.attrs['date'].index(date_str)] = frequency_vector\n"
   ]
  },
  {
   "cell_type": "code",
   "execution_count": 26,
   "metadata": {},
   "outputs": [],
   "source": [
    "vil_input = vil_dr.values"
   ]
  },
  {
   "cell_type": "code",
   "execution_count": 27,
   "metadata": {},
   "outputs": [
    {
     "data": {
      "text/plain": [
       "(5625, 25, 25)"
      ]
     },
     "execution_count": 27,
     "metadata": {},
     "output_type": "execute_result"
    }
   ],
   "source": [
    "vil_input.shape"
   ]
  },
  {
   "cell_type": "code",
   "execution_count": null,
   "metadata": {},
   "outputs": [],
   "source": []
  }
 ],
 "metadata": {
  "kernelspec": {
   "display_name": "traffic",
   "language": "python",
   "name": "python3"
  },
  "language_info": {
   "codemirror_mode": {
    "name": "ipython",
    "version": 3
   },
   "file_extension": ".py",
   "mimetype": "text/x-python",
   "name": "python",
   "nbconvert_exporter": "python",
   "pygments_lexer": "ipython3",
   "version": "3.9.13"
  }
 },
 "nbformat": 4,
 "nbformat_minor": 2
}
