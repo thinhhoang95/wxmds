{
 "cells": [
  {
   "cell_type": "code",
   "execution_count": 3,
   "metadata": {},
   "outputs": [],
   "source": [
    "from sklearn.manifold import MDS\n",
    "from sklearn.metrics.pairwise import euclidean_distances\n",
    "import matplotlib.pyplot as plt\n",
    "import numpy as np"
   ]
  },
  {
   "cell_type": "code",
   "execution_count": 2,
   "metadata": {},
   "outputs": [
    {
     "name": "stdout",
     "output_type": "stream",
     "text": [
      "Found 3 trajectory files\n"
     ]
    }
   ],
   "source": [
    "# find all npz files in the stx folder\n",
    "import glob\n",
    "trajectory_files = glob.glob('stx/*.npz')\n",
    "print('Found %d trajectory files' % len(trajectory_files))"
   ]
  },
  {
   "cell_type": "code",
   "execution_count": 13,
   "metadata": {},
   "outputs": [],
   "source": [
    "trajectory = np.empty((0, 2, 2000))"
   ]
  },
  {
   "cell_type": "code",
   "execution_count": 16,
   "metadata": {},
   "outputs": [
    {
     "name": "stdout",
     "output_type": "stream",
     "text": [
      "Trajectory shape: (14, 2, 2000)\n"
     ]
    }
   ],
   "source": [
    "for file_name in trajectory_files[1:]:\n",
    "    trajectory = np.vstack((trajectory, np.load(file_name, allow_pickle=True)['arr_0']))\n",
    "\n",
    "print('Trajectory shape:', trajectory.shape)"
   ]
  },
  {
   "cell_type": "code",
   "execution_count": 18,
   "metadata": {},
   "outputs": [],
   "source": [
    "# cast trajectory to float32\n",
    "trajectory = trajectory.astype(np.float32)"
   ]
  },
  {
   "cell_type": "code",
   "execution_count": 26,
   "metadata": {},
   "outputs": [],
   "source": [
    "import numpy as np\n",
    "\n",
    "def fill_nan_with_avg(arr_ds):\n",
    "    for first_index in range(arr_ds.shape[0]):\n",
    "        for second_index in range(arr_ds.shape[1]):\n",
    "            arr = arr_ds[first_index, second_index, :]\n",
    "            nans = np.isnan(arr)\n",
    "            for i in range(len(arr)):\n",
    "                if nans[i]:\n",
    "                    left = right = np.nan\n",
    "                    # Find nearest non-NaN value to the left\n",
    "                    for j in range(i-1, -1, -1):\n",
    "                        if not nans[j]:\n",
    "                            left = arr[j]\n",
    "                            break\n",
    "                    \n",
    "                    # Find nearest non-NaN value to the right\n",
    "                    for j in range(i+1, len(arr)):\n",
    "                        if not nans[j]:\n",
    "                            right = arr[j]\n",
    "                            break\n",
    "                    \n",
    "                    # Calculate average if both neighbors are found\n",
    "                    if not np.isnan(left) and not np.isnan(right):\n",
    "                        arr[i] = (left + right) / 2\n",
    "                    # If only one neighbor, use its value\n",
    "                    elif not np.isnan(left):\n",
    "                        arr[i] = left\n",
    "                    elif not np.isnan(right):\n",
    "                        arr[i] = right\n",
    "            arr_ds[first_index, second_index, :] = arr\n",
    "    return arr_ds\n"
   ]
  },
  {
   "cell_type": "code",
   "execution_count": 27,
   "metadata": {},
   "outputs": [],
   "source": [
    "# check if trajectory contains NaNs\n",
    "trajectory = fill_nan_with_avg(trajectory)"
   ]
  },
  {
   "cell_type": "code",
   "execution_count": 28,
   "metadata": {},
   "outputs": [],
   "source": [
    "# Compte the distance matrix\n",
    "dist = euclidean_distances(trajectory.reshape(trajectory.shape[0], -1))"
   ]
  },
  {
   "cell_type": "code",
   "execution_count": 30,
   "metadata": {},
   "outputs": [
    {
     "data": {
      "text/plain": [
       "<matplotlib.colorbar.Colorbar at 0x16449dfd0>"
      ]
     },
     "execution_count": 30,
     "metadata": {},
     "output_type": "execute_result"
    },
    {
     "data": {
      "image/png": "[encoded data removed]",
      "text/plain": [
       "<Figure size 640x480 with 2 Axes>"
      ]
     },
     "metadata": {},
     "output_type": "display_data"
    }
   ],
   "source": [
    "plt.imshow(dist)\n",
    "plt.colorbar()"
   ]
  },
  {
   "cell_type": "code",
   "execution_count": 31,
   "metadata": {},
   "outputs": [
    {
     "data": {
      "text/plain": [
       "<matplotlib.collections.PathCollection at 0x16457d520>"
      ]
     },
     "execution_count": 31,
     "metadata": {},
     "output_type": "execute_result"
    },
    {
     "data": {
      "image/png": "[encoded data removed]",
      "text/plain": [
       "<Figure size 640x480 with 1 Axes>"
      ]
     },
     "metadata": {},
     "output_type": "display_data"
    }
   ],
   "source": [
    "# Compute the MDS\n",
    "mds = MDS(n_components=2, dissimilarity='precomputed')\n",
    "pos = mds.fit_transform(dist)\n",
    "\n",
    "# Plot the MDS\n",
    "plt.scatter(pos[:, 0], pos[:, 1])"
   ]
  },
  {
   "cell_type": "code",
   "execution_count": null,
   "metadata": {},
   "outputs": [],
   "source": []
  }
 ],
 "metadata": {
  "kernelspec": {
   "display_name": "traffic",
   "language": "python",
   "name": "python3"
  },
  "language_info": {
   "codemirror_mode": {
    "name": "ipython",
    "version": 3
   },
   "file_extension": ".py",
   "mimetype": "text/x-python",
   "name": "python",
   "nbconvert_exporter": "python",
   "pygments_lexer": "ipython3",
   "version": "3.9.13"
  }
 },
 "nbformat": 4,
 "nbformat_minor": 2
}
