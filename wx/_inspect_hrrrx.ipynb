{
 "cells": [
  {
   "cell_type": "code",
   "execution_count": 1,
   "metadata": {},
   "outputs": [
    {
     "data": {
      "text/plain": [
       "<xarray.core.options.set_options at 0x10647ad90>"
      ]
     },
     "execution_count": 1,
     "metadata": {},
     "output_type": "execute_result"
    }
   ],
   "source": [
    "import xarray as xr \n",
    "import numpy as np \n",
    "from matplotlib import pyplot as plt\n",
    "\n",
    "# For xarray, display in compact form\n",
    "xr.set_options(display_expand_data=False)"
   ]
  },
  {
   "cell_type": "code",
   "execution_count": 2,
   "metadata": {},
   "outputs": [],
   "source": [
    "# Load the ZARR\n",
    "ds = xr.open_zarr('../hrrr/hrrr16x.zarr/')\n",
    "vil = ds.VIL"
   ]
  },
  {
   "cell_type": "code",
   "execution_count": 3,
   "metadata": {},
   "outputs": [],
   "source": [
    "# Begin downloading traffic data corresponding to the thunderstorm dates indicated by vil.attrs['date']\n",
    "from traffic.data import opensky\n",
    "opensky.username='thinhhoang'\n",
    "opensky.password='iQ6^yrwe7o3m'\n",
    "from datetime import datetime, timedelta \n",
    "import pytz \n",
    "\n",
    "dallas_tz = pytz.timezone('US/Central')\n",
    "paris_tz = pytz.timezone('Europe/Paris')\n",
    "utc_tz = pytz.timezone('UTC')"
   ]
  },
  {
   "cell_type": "markdown",
   "metadata": {},
   "source": [
    "# Datetime Helper Functions"
   ]
  },
  {
   "cell_type": "code",
   "execution_count": 4,
   "metadata": {},
   "outputs": [],
   "source": [
    "def str_to_datetime_utc(s):\n",
    "    return utc_tz.localize(datetime.strptime(s, '%Y-%m-%d %H:%M:%S'))\n",
    "\n",
    "def to_dallas_tz(dt):\n",
    "    return dt.astimezone(dallas_tz)\n",
    "\n",
    "def to_paris_tz(dt):\n",
    "    return dt.astimezone(paris_tz)\n",
    "\n",
    "def to_utc_tz(dt):\n",
    "    return dt.astimezone(utc_tz)\n",
    "\n",
    "def to_string_from_datetime(dt):\n",
    "    return dt.strftime('%Y-%m-%d %H:%M:%S')"
   ]
  },
  {
   "cell_type": "code",
   "execution_count": 6,
   "metadata": {},
   "outputs": [],
   "source": [
    "def merge_contiguous_storms(datetime_list):\n",
    "    # Convert to datetime\n",
    "    datetime_list = [str_to_datetime_utc(dt) for dt in datetime_list]\n",
    "    \n",
    "    # Sort the list\n",
    "    datetime_list.sort()\n",
    "    \n",
    "    # Merge contiguous storms\n",
    "    merged_datetime_list = [] # end of the storm\n",
    "    merged_datetime_list_begin = [] # beginning of the storm\n",
    "    \n",
    "    for dt in datetime_list:\n",
    "        if len(merged_datetime_list) == 0:\n",
    "            merged_datetime_list.append(dt)\n",
    "            merged_datetime_list_begin.append(dt)\n",
    "        else:\n",
    "            if dt - merged_datetime_list[-1] > timedelta(hours=1):\n",
    "                merged_datetime_list.append(dt)\n",
    "                merged_datetime_list_begin.append(dt)\n",
    "            else:\n",
    "                merged_datetime_list[-1] = dt\n",
    "                \n",
    "    # Convert back to string\n",
    "    merged_datetime_list = [to_string_from_datetime(dt) for dt in merged_datetime_list]\n",
    "    merged_datetime_list_begin = [to_string_from_datetime(dt) for dt in merged_datetime_list_begin]\n",
    "    \n",
    "    return merged_datetime_list_begin, merged_datetime_list"
   ]
  },
  {
   "cell_type": "code",
   "execution_count": 14,
   "metadata": {},
   "outputs": [],
   "source": [
    "storm_catalogue = merge_contiguous_storms(vil.attrs['date']) # merged contiguous storms\n",
    "storm_catalogue = list(zip(storm_catalogue[0], storm_catalogue[1])) # convert to list of tuples"
   ]
  },
  {
   "cell_type": "markdown",
   "metadata": {},
   "source": [
    "# Download the flight trajectory data"
   ]
  },
  {
   "cell_type": "code",
   "execution_count": 5,
   "metadata": {},
   "outputs": [],
   "source": [
    "def download_flight_data(from_time_utc, to_time_utc=None, airport='KDFW', verbose = True):\n",
    "    # If from_time_utc is a string, convert it to datetime (UTC)\n",
    "    if isinstance(from_time_utc, str):\n",
    "        from_time = str_to_datetime_utc(from_time_utc)\n",
    "    else:\n",
    "        from_time = from_time_utc\n",
    "        \n",
    "    if to_time_utc is None:\n",
    "        to_time = from_time + timedelta(minutes=30)\n",
    "    else:\n",
    "        # If to_time_utc is a string, convert it to datetime (UTC)\n",
    "        if isinstance(to_time_utc, str):\n",
    "            to_time = str_to_datetime_utc(to_time_utc)\n",
    "        else:\n",
    "            to_time = to_time_utc\n",
    "            \n",
    "    if verbose:\n",
    "        print(f'Downloading flight data from {to_string_from_datetime(from_time)} to {to_string_from_datetime(to_time)}')\n",
    "    \n",
    "    # Download the flight data from OpenSky\n",
    "    fl = opensky.history(to_string_from_datetime(from_time), to_string_from_datetime(to_time), arrival_airport=airport)\n",
    "    \n",
    "    return fl"
   ]
  },
  {
   "cell_type": "code",
   "execution_count": 42,
   "metadata": {},
   "outputs": [
    {
     "data": {
      "application/vnd.jupyter.widget-view+json": {
       "model_id": "efb0ca15c7644fe3843f3f551bd453ad",
       "version_major": 2,
       "version_minor": 0
      },
      "text/plain": [
       "Output()"
      ]
     },
     "metadata": {},
     "output_type": "display_data"
    },
    {
     "data": {
      "text/html": [
       "<pre style=\"white-space:pre;overflow-x:auto;line-height:normal;font-family:Menlo,'DejaVu Sans Mono',consolas,'Courier New',monospace\">/Users/thinhhoang/miniforge3/envs/traffic/lib/python3.9/site-packages/ipywidgets/widgets/widg\n",
       "et_output.py:111: DeprecationWarning: Kernel._parent_header is deprecated in ipykernel 6. Use\n",
       ".get_parent()\n",
       "  if ip and hasattr(ip, 'kernel') and hasattr(ip.kernel, '_parent_header'):\n",
       "</pre>\n"
      ],
      "text/plain": [
       "/Users/thinhhoang/miniforge3/envs/traffic/lib/python3.9/site-packages/ipywidgets/widgets/widg\n",
       "et_output.py:111: DeprecationWarning: Kernel._parent_header is deprecated in ipykernel 6. Use\n",
       ".get_parent()\n",
       "  if ip and hasattr(ip, 'kernel') and hasattr(ip.kernel, '_parent_header'):\n"
      ]
     },
     "metadata": {},
     "output_type": "display_data"
    },
    {
     "name": "stdout",
     "output_type": "stream",
     "text": [
      "Downloading flight data from 2016-03-07 23:00:00 to 2016-03-08 07:30:00\n"
     ]
    },
    {
     "name": "stderr",
     "output_type": "stream",
     "text": [
      "/Users/thinhhoang/miniforge3/envs/traffic/lib/python3.9/site-packages/traffic/data/adsb/opensky_impala.py:912: TqdmExperimentalWarning: rich is experimental/alpha\n",
      "  for bt, at, bh, ah in progressbar(sequence):\n"
     ]
    },
    {
     "data": {
      "text/html": [
       "<pre style=\"white-space:pre;overflow-x:auto;line-height:normal;font-family:Menlo,'DejaVu Sans Mono',consolas,'Courier New',monospace\"></pre>\n"
      ],
      "text/plain": []
     },
     "metadata": {},
     "output_type": "display_data"
    },
    {
     "data": {
      "text/html": [
       "<pre style=\"white-space:pre;overflow-x:auto;line-height:normal;font-family:Menlo,'DejaVu Sans Mono',consolas,'Courier New',monospace\">\n",
       "</pre>\n"
      ],
      "text/plain": [
       "\n"
      ]
     },
     "metadata": {},
     "output_type": "display_data"
    }
   ],
   "source": [
    "fl = download_flight_data(storm_catalogue[24][0], storm_catalogue[24][1])"
   ]
  },
  {
   "cell_type": "code",
   "execution_count": 51,
   "metadata": {},
   "outputs": [
    {
     "data": {
      "application/vnd.jupyter.widget-view+json": {
       "model_id": "d6ee77f73f444689a914bc1e13a178d0",
       "version_major": 2,
       "version_minor": 0
      },
      "text/plain": [
       "Output()"
      ]
     },
     "metadata": {},
     "output_type": "display_data"
    },
    {
     "data": {
      "text/html": [
       "<pre style=\"white-space:pre;overflow-x:auto;line-height:normal;font-family:Menlo,'DejaVu Sans Mono',consolas,'Courier New',monospace\">/Users/thinhhoang/miniforge3/envs/traffic/lib/python3.9/site-packages/ipywidgets/widgets/widg\n",
       "et_output.py:111: DeprecationWarning: Kernel._parent_header is deprecated in ipykernel 6. Use\n",
       ".get_parent()\n",
       "  if ip and hasattr(ip, 'kernel') and hasattr(ip.kernel, '_parent_header'):\n",
       "</pre>\n"
      ],
      "text/plain": [
       "/Users/thinhhoang/miniforge3/envs/traffic/lib/python3.9/site-packages/ipywidgets/widgets/widg\n",
       "et_output.py:111: DeprecationWarning: Kernel._parent_header is deprecated in ipykernel 6. Use\n",
       ".get_parent()\n",
       "  if ip and hasattr(ip, 'kernel') and hasattr(ip.kernel, '_parent_header'):\n"
      ]
     },
     "metadata": {},
     "output_type": "display_data"
    },
    {
     "name": "stderr",
     "output_type": "stream",
     "text": [
      "/Users/thinhhoang/miniforge3/envs/traffic/lib/python3.9/site-packages/traffic/data/adsb/opensky_impala.py:912: TqdmExperimentalWarning: rich is experimental/alpha\n",
      "  for bt, at, bh, ah in progressbar(sequence):\n"
     ]
    },
    {
     "data": {
      "text/html": [
       "<pre style=\"white-space:pre;overflow-x:auto;line-height:normal;font-family:Menlo,'DejaVu Sans Mono',consolas,'Courier New',monospace\">/Users/thinhhoang/miniforge3/envs/traffic/lib/python3.9/site-packages/ipywidgets/widgets/widg\n",
       "et_output.py:111: DeprecationWarning: Kernel._parent_header is deprecated in ipykernel 6. Use\n",
       ".get_parent()\n",
       "  if ip and hasattr(ip, 'kernel') and hasattr(ip.kernel, '_parent_header'):\n",
       "</pre>\n"
      ],
      "text/plain": [
       "/Users/thinhhoang/miniforge3/envs/traffic/lib/python3.9/site-packages/ipywidgets/widgets/widg\n",
       "et_output.py:111: DeprecationWarning: Kernel._parent_header is deprecated in ipykernel 6. Use\n",
       ".get_parent()\n",
       "  if ip and hasattr(ip, 'kernel') and hasattr(ip.kernel, '_parent_header'):\n"
      ]
     },
     "metadata": {},
     "output_type": "display_data"
    },
    {
     "data": {
      "text/html": [
       "<pre style=\"white-space:pre;overflow-x:auto;line-height:normal;font-family:Menlo,'DejaVu Sans Mono',consolas,'Courier New',monospace\">/Users/thinhhoang/miniforge3/envs/traffic/lib/python3.9/site-packages/ipywidgets/widgets/widg\n",
       "et_output.py:111: DeprecationWarning: Kernel._parent_header is deprecated in ipykernel 6. Use\n",
       ".get_parent()\n",
       "  if ip and hasattr(ip, 'kernel') and hasattr(ip.kernel, '_parent_header'):\n",
       "</pre>\n"
      ],
      "text/plain": [
       "/Users/thinhhoang/miniforge3/envs/traffic/lib/python3.9/site-packages/ipywidgets/widgets/widg\n",
       "et_output.py:111: DeprecationWarning: Kernel._parent_header is deprecated in ipykernel 6. Use\n",
       ".get_parent()\n",
       "  if ip and hasattr(ip, 'kernel') and hasattr(ip.kernel, '_parent_header'):\n"
      ]
     },
     "metadata": {},
     "output_type": "display_data"
    },
    {
     "data": {
      "text/html": [
       "<pre style=\"white-space:pre;overflow-x:auto;line-height:normal;font-family:Menlo,'DejaVu Sans Mono',consolas,'Courier New',monospace\">/Users/thinhhoang/miniforge3/envs/traffic/lib/python3.9/site-packages/ipywidgets/widgets/widg\n",
       "et_output.py:111: DeprecationWarning: Kernel._parent_header is deprecated in ipykernel 6. Use\n",
       ".get_parent()\n",
       "  if ip and hasattr(ip, 'kernel') and hasattr(ip.kernel, '_parent_header'):\n",
       "</pre>\n"
      ],
      "text/plain": [
       "/Users/thinhhoang/miniforge3/envs/traffic/lib/python3.9/site-packages/ipywidgets/widgets/widg\n",
       "et_output.py:111: DeprecationWarning: Kernel._parent_header is deprecated in ipykernel 6. Use\n",
       ".get_parent()\n",
       "  if ip and hasattr(ip, 'kernel') and hasattr(ip.kernel, '_parent_header'):\n"
      ]
     },
     "metadata": {},
     "output_type": "display_data"
    },
    {
     "data": {
      "text/html": [
       "<pre style=\"white-space:pre;overflow-x:auto;line-height:normal;font-family:Menlo,'DejaVu Sans Mono',consolas,'Courier New',monospace\">/Users/thinhhoang/miniforge3/envs/traffic/lib/python3.9/site-packages/ipywidgets/widgets/widg\n",
       "et_output.py:111: DeprecationWarning: Kernel._parent_header is deprecated in ipykernel 6. Use\n",
       ".get_parent()\n",
       "  if ip and hasattr(ip, 'kernel') and hasattr(ip.kernel, '_parent_header'):\n",
       "</pre>\n"
      ],
      "text/plain": [
       "/Users/thinhhoang/miniforge3/envs/traffic/lib/python3.9/site-packages/ipywidgets/widgets/widg\n",
       "et_output.py:111: DeprecationWarning: Kernel._parent_header is deprecated in ipykernel 6. Use\n",
       ".get_parent()\n",
       "  if ip and hasattr(ip, 'kernel') and hasattr(ip.kernel, '_parent_header'):\n"
      ]
     },
     "metadata": {},
     "output_type": "display_data"
    },
    {
     "data": {
      "text/html": [
       "<pre style=\"white-space:pre;overflow-x:auto;line-height:normal;font-family:Menlo,'DejaVu Sans Mono',consolas,'Courier New',monospace\">/Users/thinhhoang/miniforge3/envs/traffic/lib/python3.9/site-packages/ipywidgets/widgets/widg\n",
       "et_output.py:111: DeprecationWarning: Kernel._parent_header is deprecated in ipykernel 6. Use\n",
       ".get_parent()\n",
       "  if ip and hasattr(ip, 'kernel') and hasattr(ip.kernel, '_parent_header'):\n",
       "</pre>\n"
      ],
      "text/plain": [
       "/Users/thinhhoang/miniforge3/envs/traffic/lib/python3.9/site-packages/ipywidgets/widgets/widg\n",
       "et_output.py:111: DeprecationWarning: Kernel._parent_header is deprecated in ipykernel 6. Use\n",
       ".get_parent()\n",
       "  if ip and hasattr(ip, 'kernel') and hasattr(ip.kernel, '_parent_header'):\n"
      ]
     },
     "metadata": {},
     "output_type": "display_data"
    },
    {
     "data": {
      "text/html": [
       "<pre style=\"white-space:pre;overflow-x:auto;line-height:normal;font-family:Menlo,'DejaVu Sans Mono',consolas,'Courier New',monospace\">/Users/thinhhoang/miniforge3/envs/traffic/lib/python3.9/site-packages/ipywidgets/widgets/widg\n",
       "et_output.py:111: DeprecationWarning: Kernel._parent_header is deprecated in ipykernel 6. Use\n",
       ".get_parent()\n",
       "  if ip and hasattr(ip, 'kernel') and hasattr(ip.kernel, '_parent_header'):\n",
       "</pre>\n"
      ],
      "text/plain": [
       "/Users/thinhhoang/miniforge3/envs/traffic/lib/python3.9/site-packages/ipywidgets/widgets/widg\n",
       "et_output.py:111: DeprecationWarning: Kernel._parent_header is deprecated in ipykernel 6. Use\n",
       ".get_parent()\n",
       "  if ip and hasattr(ip, 'kernel') and hasattr(ip.kernel, '_parent_header'):\n"
      ]
     },
     "metadata": {},
     "output_type": "display_data"
    },
    {
     "data": {
      "text/html": [
       "<pre style=\"white-space:pre;overflow-x:auto;line-height:normal;font-family:Menlo,'DejaVu Sans Mono',consolas,'Courier New',monospace\">/Users/thinhhoang/miniforge3/envs/traffic/lib/python3.9/site-packages/ipywidgets/widgets/widg\n",
       "et_output.py:111: DeprecationWarning: Kernel._parent_header is deprecated in ipykernel 6. Use\n",
       ".get_parent()\n",
       "  if ip and hasattr(ip, 'kernel') and hasattr(ip.kernel, '_parent_header'):\n",
       "</pre>\n"
      ],
      "text/plain": [
       "/Users/thinhhoang/miniforge3/envs/traffic/lib/python3.9/site-packages/ipywidgets/widgets/widg\n",
       "et_output.py:111: DeprecationWarning: Kernel._parent_header is deprecated in ipykernel 6. Use\n",
       ".get_parent()\n",
       "  if ip and hasattr(ip, 'kernel') and hasattr(ip.kernel, '_parent_header'):\n"
      ]
     },
     "metadata": {},
     "output_type": "display_data"
    },
    {
     "data": {
      "text/html": [
       "<pre style=\"white-space:pre;overflow-x:auto;line-height:normal;font-family:Menlo,'DejaVu Sans Mono',consolas,'Courier New',monospace\">/Users/thinhhoang/miniforge3/envs/traffic/lib/python3.9/site-packages/ipywidgets/widgets/widg\n",
       "et_output.py:111: DeprecationWarning: Kernel._parent_header is deprecated in ipykernel 6. Use\n",
       ".get_parent()\n",
       "  if ip and hasattr(ip, 'kernel') and hasattr(ip.kernel, '_parent_header'):\n",
       "</pre>\n"
      ],
      "text/plain": [
       "/Users/thinhhoang/miniforge3/envs/traffic/lib/python3.9/site-packages/ipywidgets/widgets/widg\n",
       "et_output.py:111: DeprecationWarning: Kernel._parent_header is deprecated in ipykernel 6. Use\n",
       ".get_parent()\n",
       "  if ip and hasattr(ip, 'kernel') and hasattr(ip.kernel, '_parent_header'):\n"
      ]
     },
     "metadata": {},
     "output_type": "display_data"
    },
    {
     "data": {
      "text/html": [
       "<pre style=\"white-space:pre;overflow-x:auto;line-height:normal;font-family:Menlo,'DejaVu Sans Mono',consolas,'Courier New',monospace\"></pre>\n"
      ],
      "text/plain": []
     },
     "metadata": {},
     "output_type": "display_data"
    },
    {
     "data": {
      "text/html": [
       "<pre style=\"white-space:pre;overflow-x:auto;line-height:normal;font-family:Menlo,'DejaVu Sans Mono',consolas,'Courier New',monospace\">\n",
       "</pre>\n"
      ],
      "text/plain": [
       "\n"
      ]
     },
     "metadata": {},
     "output_type": "display_data"
    }
   ],
   "source": [
    "fl = opensky.history(\"2017-01-01 18:00:00\", \"2017-01-01 21:30:00\", arrival_airport=\"KDFW\")"
   ]
  },
  {
   "cell_type": "code",
   "execution_count": 52,
   "metadata": {},
   "outputs": [
    {
     "data": {
      "text/html": [
       "<h4><b>Traffic</b></h4> with 113 identifiers<style type=\"text/css\">\n",
       "#T_eaa5c_row0_col0 {\n",
       "  width: 10em;\n",
       "  background: linear-gradient(90deg, #5fba7d 100.0%, transparent 100.0%);\n",
       "}\n",
       "#T_eaa5c_row1_col0 {\n",
       "  width: 10em;\n",
       "  background: linear-gradient(90deg, #5fba7d 98.3%, transparent 98.3%);\n",
       "}\n",
       "#T_eaa5c_row2_col0 {\n",
       "  width: 10em;\n",
       "  background: linear-gradient(90deg, #5fba7d 91.3%, transparent 91.3%);\n",
       "}\n",
       "#T_eaa5c_row3_col0 {\n",
       "  width: 10em;\n",
       "  background: linear-gradient(90deg, #5fba7d 90.9%, transparent 90.9%);\n",
       "}\n",
       "#T_eaa5c_row4_col0 {\n",
       "  width: 10em;\n",
       "  background: linear-gradient(90deg, #5fba7d 89.9%, transparent 89.9%);\n",
       "}\n",
       "#T_eaa5c_row5_col0 {\n",
       "  width: 10em;\n",
       "  background: linear-gradient(90deg, #5fba7d 89.6%, transparent 89.6%);\n",
       "}\n",
       "#T_eaa5c_row6_col0 {\n",
       "  width: 10em;\n",
       "  background: linear-gradient(90deg, #5fba7d 88.5%, transparent 88.5%);\n",
       "}\n",
       "#T_eaa5c_row7_col0 {\n",
       "  width: 10em;\n",
       "  background: linear-gradient(90deg, #5fba7d 82.1%, transparent 82.1%);\n",
       "}\n",
       "#T_eaa5c_row8_col0 {\n",
       "  width: 10em;\n",
       "  background: linear-gradient(90deg, #5fba7d 82.0%, transparent 82.0%);\n",
       "}\n",
       "#T_eaa5c_row9_col0 {\n",
       "  width: 10em;\n",
       "  background: linear-gradient(90deg, #5fba7d 80.7%, transparent 80.7%);\n",
       "}\n",
       "</style>\n",
       "<table id=\"T_eaa5c\">\n",
       "  <thead>\n",
       "    <tr>\n",
       "      <th class=\"blank\" >&nbsp;</th>\n",
       "      <th class=\"blank level0\" >&nbsp;</th>\n",
       "      <th id=\"T_eaa5c_level0_col0\" class=\"col_heading level0 col0\" >count</th>\n",
       "    </tr>\n",
       "    <tr>\n",
       "      <th class=\"index_name level0\" >icao24</th>\n",
       "      <th class=\"index_name level1\" >callsign</th>\n",
       "      <th class=\"blank col0\" >&nbsp;</th>\n",
       "    </tr>\n",
       "  </thead>\n",
       "  <tbody>\n",
       "    <tr>\n",
       "      <th id=\"T_eaa5c_level0_row0\" class=\"row_heading level0 row0\" >a0d344</th>\n",
       "      <th id=\"T_eaa5c_level1_row0\" class=\"row_heading level1 row0\" >SKW5614</th>\n",
       "      <td id=\"T_eaa5c_row0_col0\" class=\"data row0 col0\" >9410</td>\n",
       "    </tr>\n",
       "    <tr>\n",
       "      <th id=\"T_eaa5c_level0_row1\" class=\"row_heading level0 row1\" >aabbc9</th>\n",
       "      <th id=\"T_eaa5c_level1_row1\" class=\"row_heading level1 row1\" >AAL49</th>\n",
       "      <td id=\"T_eaa5c_row1_col0\" class=\"data row1 col0\" >9246</td>\n",
       "    </tr>\n",
       "    <tr>\n",
       "      <th id=\"T_eaa5c_level0_row2\" class=\"row_heading level0 row2\" >adc8e7</th>\n",
       "      <th id=\"T_eaa5c_level1_row2\" class=\"row_heading level1 row2\" >AAL1141</th>\n",
       "      <td id=\"T_eaa5c_row2_col0\" class=\"data row2 col0\" >8591</td>\n",
       "    </tr>\n",
       "    <tr>\n",
       "      <th id=\"T_eaa5c_level0_row3\" class=\"row_heading level0 row3\" >ab3c0d</th>\n",
       "      <th id=\"T_eaa5c_level1_row3\" class=\"row_heading level1 row3\" >AAL37</th>\n",
       "      <td id=\"T_eaa5c_row3_col0\" class=\"data row3 col0\" >8555</td>\n",
       "    </tr>\n",
       "    <tr>\n",
       "      <th id=\"T_eaa5c_level0_row4\" class=\"row_heading level0 row4\" >a86061</th>\n",
       "      <th id=\"T_eaa5c_level1_row4\" class=\"row_heading level1 row4\" >NKS866</th>\n",
       "      <td id=\"T_eaa5c_row4_col0\" class=\"data row4 col0\" >8461</td>\n",
       "    </tr>\n",
       "    <tr>\n",
       "      <th id=\"T_eaa5c_level0_row5\" class=\"row_heading level0 row5\" >a99d89</th>\n",
       "      <th id=\"T_eaa5c_level1_row5\" class=\"row_heading level1 row5\" >AAL70</th>\n",
       "      <td id=\"T_eaa5c_row5_col0\" class=\"data row5 col0\" >8432</td>\n",
       "    </tr>\n",
       "    <tr>\n",
       "      <th id=\"T_eaa5c_level0_row6\" class=\"row_heading level0 row6\" >a722b1</th>\n",
       "      <th id=\"T_eaa5c_level1_row6\" class=\"row_heading level1 row6\" >AAL475</th>\n",
       "      <td id=\"T_eaa5c_row6_col0\" class=\"data row6 col0\" >8324</td>\n",
       "    </tr>\n",
       "    <tr>\n",
       "      <th id=\"T_eaa5c_level0_row7\" class=\"row_heading level0 row7\" >ab485e</th>\n",
       "      <th id=\"T_eaa5c_level1_row7\" class=\"row_heading level1 row7\" >AAL1115</th>\n",
       "      <td id=\"T_eaa5c_row7_col0\" class=\"data row7 col0\" >7729</td>\n",
       "    </tr>\n",
       "    <tr>\n",
       "      <th id=\"T_eaa5c_level0_row8\" class=\"row_heading level0 row8\" >a0e7f4</th>\n",
       "      <th id=\"T_eaa5c_level1_row8\" class=\"row_heading level1 row8\" >AAL2561</th>\n",
       "      <td id=\"T_eaa5c_row8_col0\" class=\"data row8 col0\" >7714</td>\n",
       "    </tr>\n",
       "    <tr>\n",
       "      <th id=\"T_eaa5c_level0_row9\" class=\"row_heading level0 row9\" >acaa77</th>\n",
       "      <th id=\"T_eaa5c_level1_row9\" class=\"row_heading level1 row9\" >AAL1602</th>\n",
       "      <td id=\"T_eaa5c_row9_col0\" class=\"data row9 col0\" >7595</td>\n",
       "    </tr>\n",
       "  </tbody>\n",
       "</table>\n"
      ],
      "text/plain": [
       "   icao24 callsign  count\n",
       "0  a0d344  SKW5614   9410\n",
       "1  aabbc9    AAL49   9246\n",
       "2  adc8e7  AAL1141   8591\n",
       "3  ab3c0d    AAL37   8555\n",
       "4  a86061   NKS866   8461\n",
       "5  a99d89    AAL70   8432\n",
       "6  a722b1   AAL475   8324\n",
       "7  ab485e  AAL1115   7729\n",
       "8  a0e7f4  AAL2561   7714\n",
       "9  acaa77  AAL1602   7595"
      ]
     },
     "execution_count": 52,
     "metadata": {},
     "output_type": "execute_result"
    }
   ],
   "source": [
    "fl"
   ]
  },
  {
   "cell_type": "code",
   "execution_count": null,
   "metadata": {},
   "outputs": [],
   "source": []
  },
  {
   "cell_type": "code",
   "execution_count": null,
   "metadata": {},
   "outputs": [],
   "source": []
  },
  {
   "cell_type": "code",
   "execution_count": null,
   "metadata": {},
   "outputs": [],
   "source": []
  },
  {
   "cell_type": "code",
   "execution_count": null,
   "metadata": {},
   "outputs": [],
   "source": [
    "def download_flight_for_storm(from_time_utc, to_time_utc )"
   ]
  },
  {
   "cell_type": "markdown",
   "metadata": {},
   "source": [
    "# Multiprocessing"
   ]
  },
  {
   "cell_type": "code",
   "execution_count": 12,
   "metadata": {},
   "outputs": [],
   "source": [
    "import multiprocessing as mp"
   ]
  },
  {
   "cell_type": "code",
   "execution_count": 16,
   "metadata": {},
   "outputs": [],
   "source": [
    "# Split the storm catalogue into 4 chunks\n",
    "n_chunks = 4\n",
    "storm_catalogue_chunks = np.array_split(storm_catalogue, n_chunks)"
   ]
  },
  {
   "cell_type": "code",
   "execution_count": 25,
   "metadata": {},
   "outputs": [
    {
     "data": {
      "text/plain": [
       "'2016-01-07 12:30:00'"
      ]
     },
     "execution_count": 25,
     "metadata": {},
     "output_type": "execute_result"
    }
   ],
   "source": [
    "storm_catalogue_chunks[0][0][1]"
   ]
  },
  {
   "cell_type": "code",
   "execution_count": null,
   "metadata": {},
   "outputs": [],
   "source": [
    "procs = []\n",
    "for i in range(n_chunks):\n",
    "    procs.append(mp.Process(target=download_flight_data, args=(storm_catalogue_chunks[i][0][0], storm_catalogue_chunks[i][0][1], 'KDFW', False))) # verbose = False\n",
    "    procs.start()\n",
    "    \n",
    "for proc in procs:\n",
    "    proc.join()"
   ]
  },
  {
   "cell_type": "code",
   "execution_count": 8,
   "metadata": {},
   "outputs": [
    {
     "name": "stdout",
     "output_type": "stream",
     "text": [
      "Downloading flight data from 2016-01-07 10:00:00 to 2016-01-07 10:30:00\n"
     ]
    }
   ],
   "source": [
    "fl = download_flight_data(vil.attrs['date'][22])"
   ]
  },
  {
   "cell_type": "code",
   "execution_count": 9,
   "metadata": {},
   "outputs": [],
   "source": [
    "fl = opensky.history(\"2019-01-07 11:00\", \"2019-01-07 11:30\", arrival_airport='LFPO')"
   ]
  },
  {
   "cell_type": "code",
   "execution_count": 10,
   "metadata": {},
   "outputs": [
    {
     "data": {
      "text/html": [
       "<div>\n",
       "<style scoped>\n",
       "    .dataframe tbody tr th:only-of-type {\n",
       "        vertical-align: middle;\n",
       "    }\n",
       "\n",
       "    .dataframe tbody tr th {\n",
       "        vertical-align: top;\n",
       "    }\n",
       "\n",
       "    .dataframe thead th {\n",
       "        text-align: right;\n",
       "    }\n",
       "</style>\n",
       "<table border=\"1\" class=\"dataframe\">\n",
       "  <thead>\n",
       "    <tr style=\"text-align: right;\">\n",
       "      <th></th>\n",
       "      <th>alert</th>\n",
       "      <th>altitude</th>\n",
       "      <th>callsign</th>\n",
       "      <th>day</th>\n",
       "      <th>destination</th>\n",
       "      <th>firstseen</th>\n",
       "      <th>geoaltitude</th>\n",
       "      <th>groundspeed</th>\n",
       "      <th>hour</th>\n",
       "      <th>icao24</th>\n",
       "      <th>...</th>\n",
       "      <th>lastseen</th>\n",
       "      <th>latitude</th>\n",
       "      <th>longitude</th>\n",
       "      <th>onground</th>\n",
       "      <th>origin</th>\n",
       "      <th>spi</th>\n",
       "      <th>squawk</th>\n",
       "      <th>timestamp</th>\n",
       "      <th>track</th>\n",
       "      <th>vertical_rate</th>\n",
       "    </tr>\n",
       "  </thead>\n",
       "  <tbody>\n",
       "    <tr>\n",
       "      <th>0</th>\n",
       "      <td>False</td>\n",
       "      <td>11000.0</td>\n",
       "      <td>HOP65UQ</td>\n",
       "      <td>2019-01-07 00:00:00+00:00</td>\n",
       "      <td>LFPO</td>\n",
       "      <td>2019-01-07 10:13:17+00:00</td>\n",
       "      <td>11475.0</td>\n",
       "      <td>263.0</td>\n",
       "      <td>2019-01-07 11:00:00+00:00</td>\n",
       "      <td>39b9e0</td>\n",
       "      <td>...</td>\n",
       "      <td>2019-01-07 11:18:48+00:00</td>\n",
       "      <td>48.333792</td>\n",
       "      <td>1.665151</td>\n",
       "      <td>False</td>\n",
       "      <td>NaN</td>\n",
       "      <td>False</td>\n",
       "      <td>4351</td>\n",
       "      <td>2019-01-07 11:00:01+00:00</td>\n",
       "      <td>34.172547</td>\n",
       "      <td>0.0</td>\n",
       "    </tr>\n",
       "    <tr>\n",
       "      <th>20724</th>\n",
       "      <td>False</td>\n",
       "      <td>27975.0</td>\n",
       "      <td>AFR69PR</td>\n",
       "      <td>2019-01-07 00:00:00+00:00</td>\n",
       "      <td>LFPO</td>\n",
       "      <td>2019-01-07 10:26:02+00:00</td>\n",
       "      <td>28550.0</td>\n",
       "      <td>407.0</td>\n",
       "      <td>2019-01-07 11:00:00+00:00</td>\n",
       "      <td>3950c5</td>\n",
       "      <td>...</td>\n",
       "      <td>2019-01-07 11:32:44+00:00</td>\n",
       "      <td>47.000153</td>\n",
       "      <td>1.070755</td>\n",
       "      <td>False</td>\n",
       "      <td>LFBO</td>\n",
       "      <td>False</td>\n",
       "      <td>1000</td>\n",
       "      <td>2019-01-07 11:00:01+00:00</td>\n",
       "      <td>8.468185</td>\n",
       "      <td>0.0</td>\n",
       "    </tr>\n",
       "    <tr>\n",
       "      <th>20398</th>\n",
       "      <td>False</td>\n",
       "      <td>6100.0</td>\n",
       "      <td>AFR53FY</td>\n",
       "      <td>2019-01-07 00:00:00+00:00</td>\n",
       "      <td>LFPO</td>\n",
       "      <td>2019-01-07 09:53:33+00:00</td>\n",
       "      <td>6575.0</td>\n",
       "      <td>236.0</td>\n",
       "      <td>2019-01-07 11:00:00+00:00</td>\n",
       "      <td>3944f7</td>\n",
       "      <td>...</td>\n",
       "      <td>2019-01-07 11:05:26+00:00</td>\n",
       "      <td>48.676804</td>\n",
       "      <td>2.765526</td>\n",
       "      <td>False</td>\n",
       "      <td>LFMP</td>\n",
       "      <td>False</td>\n",
       "      <td>1000</td>\n",
       "      <td>2019-01-07 11:00:01+00:00</td>\n",
       "      <td>45.686144</td>\n",
       "      <td>-2880.0</td>\n",
       "    </tr>\n",
       "    <tr>\n",
       "      <th>22523</th>\n",
       "      <td>False</td>\n",
       "      <td>36000.0</td>\n",
       "      <td>TVF71JQ</td>\n",
       "      <td>2019-01-07 00:00:00+00:00</td>\n",
       "      <td>LFPO</td>\n",
       "      <td>2019-01-07 10:48:11+00:00</td>\n",
       "      <td>36975.0</td>\n",
       "      <td>472.0</td>\n",
       "      <td>2019-01-07 11:00:00+00:00</td>\n",
       "      <td>3964f7</td>\n",
       "      <td>...</td>\n",
       "      <td>2019-01-07 13:38:58+00:00</td>\n",
       "      <td>34.104401</td>\n",
       "      <td>-7.775013</td>\n",
       "      <td>False</td>\n",
       "      <td>NaN</td>\n",
       "      <td>False</td>\n",
       "      <td>6455</td>\n",
       "      <td>2019-01-07 11:00:01+00:00</td>\n",
       "      <td>34.564744</td>\n",
       "      <td>0.0</td>\n",
       "    </tr>\n",
       "    <tr>\n",
       "      <th>18599</th>\n",
       "      <td>False</td>\n",
       "      <td>36000.0</td>\n",
       "      <td>EZY64RL</td>\n",
       "      <td>2019-01-07 00:00:00+00:00</td>\n",
       "      <td>LFPO</td>\n",
       "      <td>2019-01-07 10:18:30+00:00</td>\n",
       "      <td>36150.0</td>\n",
       "      <td>508.0</td>\n",
       "      <td>2019-01-07 11:00:00+00:00</td>\n",
       "      <td>440090</td>\n",
       "      <td>...</td>\n",
       "      <td>2019-01-07 11:30:57+00:00</td>\n",
       "      <td>50.130196</td>\n",
       "      <td>6.258941</td>\n",
       "      <td>False</td>\n",
       "      <td>EDDT</td>\n",
       "      <td>False</td>\n",
       "      <td>1366</td>\n",
       "      <td>2019-01-07 11:00:01+00:00</td>\n",
       "      <td>213.033322</td>\n",
       "      <td>0.0</td>\n",
       "    </tr>\n",
       "  </tbody>\n",
       "</table>\n",
       "<p>5 rows × 21 columns</p>\n",
       "</div>"
      ],
      "text/plain": [
       "       alert  altitude callsign                       day destination  \\\n",
       "0      False   11000.0  HOP65UQ 2019-01-07 00:00:00+00:00        LFPO   \n",
       "20724  False   27975.0  AFR69PR 2019-01-07 00:00:00+00:00        LFPO   \n",
       "20398  False    6100.0  AFR53FY 2019-01-07 00:00:00+00:00        LFPO   \n",
       "22523  False   36000.0  TVF71JQ 2019-01-07 00:00:00+00:00        LFPO   \n",
       "18599  False   36000.0  EZY64RL 2019-01-07 00:00:00+00:00        LFPO   \n",
       "\n",
       "                      firstseen  geoaltitude  groundspeed  \\\n",
       "0     2019-01-07 10:13:17+00:00      11475.0        263.0   \n",
       "20724 2019-01-07 10:26:02+00:00      28550.0        407.0   \n",
       "20398 2019-01-07 09:53:33+00:00       6575.0        236.0   \n",
       "22523 2019-01-07 10:48:11+00:00      36975.0        472.0   \n",
       "18599 2019-01-07 10:18:30+00:00      36150.0        508.0   \n",
       "\n",
       "                           hour  icao24  ...                  lastseen  \\\n",
       "0     2019-01-07 11:00:00+00:00  39b9e0  ... 2019-01-07 11:18:48+00:00   \n",
       "20724 2019-01-07 11:00:00+00:00  3950c5  ... 2019-01-07 11:32:44+00:00   \n",
       "20398 2019-01-07 11:00:00+00:00  3944f7  ... 2019-01-07 11:05:26+00:00   \n",
       "22523 2019-01-07 11:00:00+00:00  3964f7  ... 2019-01-07 13:38:58+00:00   \n",
       "18599 2019-01-07 11:00:00+00:00  440090  ... 2019-01-07 11:30:57+00:00   \n",
       "\n",
       "        latitude  longitude  onground  origin    spi  squawk  \\\n",
       "0      48.333792   1.665151     False     NaN  False    4351   \n",
       "20724  47.000153   1.070755     False    LFBO  False    1000   \n",
       "20398  48.676804   2.765526     False    LFMP  False    1000   \n",
       "22523  34.104401  -7.775013     False     NaN  False    6455   \n",
       "18599  50.130196   6.258941     False    EDDT  False    1366   \n",
       "\n",
       "                      timestamp       track  vertical_rate  \n",
       "0     2019-01-07 11:00:01+00:00   34.172547            0.0  \n",
       "20724 2019-01-07 11:00:01+00:00    8.468185            0.0  \n",
       "20398 2019-01-07 11:00:01+00:00   45.686144        -2880.0  \n",
       "22523 2019-01-07 11:00:01+00:00   34.564744            0.0  \n",
       "18599 2019-01-07 11:00:01+00:00  213.033322            0.0  \n",
       "\n",
       "[5 rows x 21 columns]"
      ]
     },
     "execution_count": 10,
     "metadata": {},
     "output_type": "execute_result"
    }
   ],
   "source": [
    "fl.data.head()"
   ]
  },
  {
   "cell_type": "code",
   "execution_count": null,
   "metadata": {},
   "outputs": [],
   "source": []
  }
 ],
 "metadata": {
  "kernelspec": {
   "display_name": "traffic",
   "language": "python",
   "name": "python3"
  },
  "language_info": {
   "codemirror_mode": {
    "name": "ipython",
    "version": 3
   },
   "file_extension": ".py",
   "mimetype": "text/x-python",
   "name": "python",
   "nbconvert_exporter": "python",
   "pygments_lexer": "ipython3",
   "version": "3.9.13"
  }
 },
 "nbformat": 4,
 "nbformat_minor": 2
}
