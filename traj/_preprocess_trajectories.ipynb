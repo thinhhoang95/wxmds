{
 "cells": [
  {
   "cell_type": "code",
   "execution_count": 1,
   "metadata": {},
   "outputs": [],
   "source": [
    "import pandas as pd \n",
    "import numpy as np\n",
    "from matplotlib import pyplot as plt"
   ]
  },
  {
   "cell_type": "code",
   "execution_count": 2,
   "metadata": {},
   "outputs": [
    {
     "data": {
      "text/html": [
       "<div>\n",
       "<style scoped>\n",
       "    .dataframe tbody tr th:only-of-type {\n",
       "        vertical-align: middle;\n",
       "    }\n",
       "\n",
       "    .dataframe tbody tr th {\n",
       "        vertical-align: top;\n",
       "    }\n",
       "\n",
       "    .dataframe thead th {\n",
       "        text-align: right;\n",
       "    }\n",
       "</style>\n",
       "<table border=\"1\" class=\"dataframe\">\n",
       "  <thead>\n",
       "    <tr style=\"text-align: right;\">\n",
       "      <th></th>\n",
       "      <th>callsign</th>\n",
       "      <th>groundspeed</th>\n",
       "      <th>timestamp</th>\n",
       "      <th>latitude</th>\n",
       "      <th>longitude</th>\n",
       "      <th>altitude</th>\n",
       "      <th>track</th>\n",
       "      <th>vertical_rate</th>\n",
       "    </tr>\n",
       "  </thead>\n",
       "  <tbody>\n",
       "    <tr>\n",
       "      <th>0</th>\n",
       "      <td>ABX3122</td>\n",
       "      <td>494.0</td>\n",
       "      <td>2017-01-01 10:00:01+00:00</td>\n",
       "      <td>35.557577</td>\n",
       "      <td>-104.181830</td>\n",
       "      <td>40975.0</td>\n",
       "      <td>98.261289</td>\n",
       "      <td>-64.0</td>\n",
       "    </tr>\n",
       "    <tr>\n",
       "      <th>1</th>\n",
       "      <td>GTI3403</td>\n",
       "      <td>511.0</td>\n",
       "      <td>2017-01-01 10:00:01+00:00</td>\n",
       "      <td>32.571996</td>\n",
       "      <td>-99.635682</td>\n",
       "      <td>36900.0</td>\n",
       "      <td>81.552473</td>\n",
       "      <td>0.0</td>\n",
       "    </tr>\n",
       "    <tr>\n",
       "      <th>2</th>\n",
       "      <td>AAL8</td>\n",
       "      <td>530.0</td>\n",
       "      <td>2017-01-01 10:00:01+00:00</td>\n",
       "      <td>34.226074</td>\n",
       "      <td>-109.079665</td>\n",
       "      <td>37000.0</td>\n",
       "      <td>85.236358</td>\n",
       "      <td>0.0</td>\n",
       "    </tr>\n",
       "    <tr>\n",
       "      <th>3</th>\n",
       "      <td>SKW5364</td>\n",
       "      <td>504.0</td>\n",
       "      <td>2017-01-01 10:00:01+00:00</td>\n",
       "      <td>32.345993</td>\n",
       "      <td>-101.605408</td>\n",
       "      <td>35000.0</td>\n",
       "      <td>80.631176</td>\n",
       "      <td>0.0</td>\n",
       "    </tr>\n",
       "    <tr>\n",
       "      <th>4</th>\n",
       "      <td>AAL6</td>\n",
       "      <td>504.0</td>\n",
       "      <td>2017-01-01 10:00:01+00:00</td>\n",
       "      <td>34.304123</td>\n",
       "      <td>-107.654189</td>\n",
       "      <td>36975.0</td>\n",
       "      <td>85.906288</td>\n",
       "      <td>0.0</td>\n",
       "    </tr>\n",
       "  </tbody>\n",
       "</table>\n",
       "</div>"
      ],
      "text/plain": [
       "  callsign  groundspeed                  timestamp   latitude   longitude  \\\n",
       "0  ABX3122        494.0  2017-01-01 10:00:01+00:00  35.557577 -104.181830   \n",
       "1  GTI3403        511.0  2017-01-01 10:00:01+00:00  32.571996  -99.635682   \n",
       "2     AAL8        530.0  2017-01-01 10:00:01+00:00  34.226074 -109.079665   \n",
       "3  SKW5364        504.0  2017-01-01 10:00:01+00:00  32.345993 -101.605408   \n",
       "4     AAL6        504.0  2017-01-01 10:00:01+00:00  34.304123 -107.654189   \n",
       "\n",
       "   altitude      track  vertical_rate  \n",
       "0   40975.0  98.261289          -64.0  \n",
       "1   36900.0  81.552473            0.0  \n",
       "2   37000.0  85.236358            0.0  \n",
       "3   35000.0  80.631176            0.0  \n",
       "4   36975.0  85.906288            0.0  "
      ]
     },
     "execution_count": 2,
     "metadata": {},
     "output_type": "execute_result"
    }
   ],
   "source": [
    "trajs = pd.read_csv('../hrrr17x_0.csv')\n",
    "# only keep columns callsign, groundspeed, timestamp, latitude, longitude, altitude, track, vertical_rate\n",
    "trajs = trajs[['callsign', 'groundspeed', 'timestamp', 'latitude', 'longitude', 'altitude', 'track', 'vertical_rate']]\n",
    "trajs.head()"
   ]
  },
  {
   "cell_type": "code",
   "execution_count": 3,
   "metadata": {},
   "outputs": [
    {
     "name": "stdout",
     "output_type": "stream",
     "text": [
      "There are 31 unique callsigns\n"
     ]
    }
   ],
   "source": [
    "callsigns = trajs['callsign'].unique()\n",
    "print('There are {} unique callsigns'.format(len(callsigns)))"
   ]
  },
  {
   "cell_type": "markdown",
   "metadata": {},
   "source": [
    "# Step 1: Drop callsigns that are in the TMA at the beginning"
   ]
  },
  {
   "cell_type": "code",
   "execution_count": 4,
   "metadata": {},
   "outputs": [],
   "source": [
    "%load_ext autoreload\n",
    "%autoreload 2"
   ]
  },
  {
   "cell_type": "code",
   "execution_count": 5,
   "metadata": {},
   "outputs": [],
   "source": [
    "# Add search path \n",
    "import sys\n",
    "sys.path.append('../wx')"
   ]
  },
  {
   "cell_type": "code",
   "execution_count": 6,
   "metadata": {},
   "outputs": [],
   "source": [
    "from roi import KDFW, ROI_RADIUS, WX_ROI # KDFW coordinates"
   ]
  },
  {
   "cell_type": "markdown",
   "metadata": {},
   "source": [
    "Haversine formula to calculate distance between two points on a sphere"
   ]
  },
  {
   "cell_type": "code",
   "execution_count": 7,
   "metadata": {},
   "outputs": [],
   "source": [
    "def haversine(lat1, lon1, lat2, lon2):\n",
    "    # Radius of the Earth in kilometers\n",
    "    R = 6371.0\n",
    "\n",
    "    # Convert coordinates from degrees to radians\n",
    "    lat1 = np.radians(lat1)\n",
    "    lon1 = np.radians(lon1)\n",
    "    lat2 = np.radians(lat2)\n",
    "    lon2 = np.radians(lon2)\n",
    "\n",
    "    # Haversine formula\n",
    "    dlon = lon2 - lon1\n",
    "    dlat = lat2 - lat1\n",
    "    a = np.sin(dlat / 2)**2 + np.cos(lat1) * np.cos(lat2) * np.sin(dlon / 2)**2\n",
    "    c = 2 * np.arctan2(np.sqrt(a), np.sqrt(1 - a))\n",
    "\n",
    "    distance = R * c\n",
    "    return distance # in kilometers\n"
   ]
  },
  {
   "cell_type": "code",
   "execution_count": 8,
   "metadata": {},
   "outputs": [],
   "source": [
    "# Calculate distance for each row\n",
    "trajs['distance'] = haversine(trajs['latitude'], trajs['longitude'], KDFW[1], KDFW[0]) # KDFW[1] is latitude, KDFW[0] is longitude"
   ]
  },
  {
   "cell_type": "code",
   "execution_count": 9,
   "metadata": {},
   "outputs": [
    {
     "name": "stdout",
     "output_type": "stream",
     "text": [
      "There are 0 callsigns within the radius to be dropped\n"
     ]
    }
   ],
   "source": [
    "# Compute the max distance for each callsign\n",
    "max_distance_per_callsign = trajs.groupby('callsign')['distance'].max()\n",
    "\n",
    "# Callsigns that are within the radius\n",
    "callsigns_to_drop = max_distance_per_callsign[max_distance_per_callsign < ROI_RADIUS].index\n",
    "print('There are {} callsigns within the radius to be dropped'.format(len(callsigns_to_drop)))\n",
    "\n",
    "# Drop callsigns that are within the radius\n",
    "trajs = trajs[~trajs['callsign'].isin(callsigns_to_drop)]"
   ]
  },
  {
   "cell_type": "markdown",
   "metadata": {},
   "source": [
    "# Drop callsigns that haven't landed"
   ]
  },
  {
   "cell_type": "code",
   "execution_count": 10,
   "metadata": {},
   "outputs": [
    {
     "name": "stdout",
     "output_type": "stream",
     "text": [
      "There are 18 callsigns that haven't landed and was dropped\n"
     ]
    }
   ],
   "source": [
    "# Compute the max distance for each callsign\n",
    "min_distance_per_callsign = trajs.groupby('callsign')['distance'].min()\n",
    "\n",
    "# Callsigns that are within the radius\n",
    "callsigns_to_drop_2 = min_distance_per_callsign[min_distance_per_callsign > 30].index # 4km within the airport is considered as at the airport\n",
    "print('There are {} callsigns that haven\\'t landed and was dropped'.format(len(callsigns_to_drop_2)))\n",
    "\n",
    "# Drop callsigns that are within the radius\n",
    "trajs = trajs[~trajs['callsign'].isin(callsigns_to_drop_2)]"
   ]
  },
  {
   "cell_type": "code",
   "execution_count": 11,
   "metadata": {},
   "outputs": [
    {
     "name": "stdout",
     "output_type": "stream",
     "text": [
      "In the end there are 13 callsigns left\n"
     ]
    }
   ],
   "source": [
    "print('In the end there are {} callsigns left'.format(len(trajs['callsign'].unique())))"
   ]
  },
  {
   "cell_type": "markdown",
   "metadata": {},
   "source": [
    "# Plotting of a sample trajectory"
   ]
  },
  {
   "cell_type": "code",
   "execution_count": 12,
   "metadata": {},
   "outputs": [],
   "source": [
    "from viz import plot_traj_from_df, plot_setup\n",
    "from cartopy import crs as ccrs"
   ]
  },
  {
   "cell_type": "markdown",
   "metadata": {},
   "source": [
    "## Weather download and preparation"
   ]
  },
  {
   "cell_type": "code",
   "execution_count": 13,
   "metadata": {},
   "outputs": [],
   "source": [
    "from herbie import Herbie "
   ]
  },
  {
   "cell_type": "code",
   "execution_count": 14,
   "metadata": {},
   "outputs": [
    {
     "name": "stdout",
     "output_type": "stream",
     "text": [
      "✅ Found ┊ model=hrrr ┊ \u001b[3mproduct=sfc\u001b[0m ┊ \u001b[38;2;41;130;13m2017-Jan-01 10:00 UTC\u001b[92m F00\u001b[0m ┊ \u001b[38;2;255;153;0m\u001b[3mGRIB2 @ aws\u001b[0m ┊ \u001b[38;2;255;153;0m\u001b[3mIDX @ aws\u001b[0m\n"
     ]
    },
    {
     "name": "stderr",
     "output_type": "stream",
     "text": [
      "/opt/anaconda3/envs/traffic/lib/python3.10/site-packages/herbie/core.py:1052: UserWarning: Will not remove GRIB file because it previously existed.\n",
      "  warnings.warn(\"Will not remove GRIB file because it previously existed.\")\n"
     ]
    }
   ],
   "source": [
    "H = Herbie(\n",
    "    \"2017-01-01 10:00:01\",  # model run date\n",
    "    model=\"hrrr\",  # model name\n",
    "    product=\"sfc\",  # model produce name (model dependent)\n",
    "    fxx=0,  # forecast lead time\n",
    ")\n",
    "\n",
    "H.download(\":VIL:\")\n",
    "\n",
    "ds = H.xarray(\":VIL:\")\n",
    "vil = ds.veril"
   ]
  },
  {
   "cell_type": "code",
   "execution_count": 15,
   "metadata": {},
   "outputs": [],
   "source": [
    "# Forming a mask of the ROI\n",
    "roi_lon = WX_ROI[0]\n",
    "roi_lat = WX_ROI[1]\n",
    "\n",
    "mask_lon = np.logical_and(vil['longitude'].values - 360 > roi_lon[0], vil['longitude'].values - 360 < roi_lon[1])\n",
    "mask_lat = np.logical_and(vil['latitude'].values > roi_lat[0], vil['latitude'].values < roi_lat[1])\n",
    "mask = np.logical_and(mask_lon, mask_lat)"
   ]
  },
  {
   "cell_type": "code",
   "execution_count": 16,
   "metadata": {},
   "outputs": [],
   "source": [
    "# Change values of vil out of the mask to -10\n",
    "# vil.values[~mask] = -100"
   ]
  },
  {
   "cell_type": "markdown",
   "metadata": {},
   "source": [
    "A little visualization"
   ]
  },
  {
   "cell_type": "code",
   "execution_count": 17,
   "metadata": {},
   "outputs": [
    {
     "data": {
      "image/png": "[encoded data removed]",
      "text/plain": [
       "<Figure size 1000x1000 with 2 Axes>"
      ]
     },
     "metadata": {},
     "output_type": "display_data"
    }
   ],
   "source": [
    "fig, ax = plot_setup()\n",
    "\n",
    "# Draw two lines, one for each meridian and parallel that we want to highlight.\n",
    "ax.plot([WX_ROI[0][0], WX_ROI[0][0]], [WX_ROI[1][0], WX_ROI[1][1]], color='red', transform=ccrs.PlateCarree(), linewidth=2)\n",
    "ax.plot([WX_ROI[0][0], WX_ROI[0][1]], [WX_ROI[1][0], WX_ROI[1][0]], color='yellow', transform=ccrs.PlateCarree(), linewidth=2)\n",
    "\n",
    "# Overlaying the VIL data on the map\n",
    "plt.contourf(vil['longitude'].values, vil['latitude'].values, np.where(mask, vil.values, 0), transform=ccrs.PlateCarree(), cmap='gray')\n",
    "plt.colorbar() \n",
    "\n",
    "for csg in trajs['callsign'].unique():\n",
    "    plot_traj_from_df(trajs, csg, ax)"
   ]
  },
  {
   "cell_type": "markdown",
   "metadata": {},
   "source": [
    "# Trim the Trajectory"
   ]
  },
  {
   "cell_type": "code",
   "execution_count": 18,
   "metadata": {},
   "outputs": [
    {
     "name": "stdout",
     "output_type": "stream",
     "text": [
      "There are 13 unique callsigns\n"
     ]
    }
   ],
   "source": [
    "callsigns = trajs['callsign'].unique()\n",
    "print('There are {} unique callsigns'.format(len(callsigns)))"
   ]
  },
  {
   "cell_type": "markdown",
   "metadata": {},
   "source": [
    "We trim the trajectories to ROI_RADIUS"
   ]
  },
  {
   "cell_type": "code",
   "execution_count": 19,
   "metadata": {},
   "outputs": [
    {
     "name": "stdout",
     "output_type": "stream",
     "text": [
      "41484 rows -> 17853 rows\n"
     ]
    }
   ],
   "source": [
    "trajs_roi = trajs[trajs['distance'] <= ROI_RADIUS]\n",
    "print('{} rows -> {} rows'.format(len(trajs), len(trajs_roi)))"
   ]
  },
  {
   "cell_type": "markdown",
   "metadata": {},
   "source": [
    "We compute the time of first appearance of each callsign inside the ROI:"
   ]
  },
  {
   "cell_type": "code",
   "execution_count": 20,
   "metadata": {},
   "outputs": [],
   "source": [
    "callsign_roi_entrance_time = trajs_roi.groupby('callsign')['timestamp'].min().reset_index()"
   ]
  },
  {
   "cell_type": "code",
   "execution_count": 21,
   "metadata": {},
   "outputs": [
    {
     "data": {
      "text/html": [
       "<div>\n",
       "<style scoped>\n",
       "    .dataframe tbody tr th:only-of-type {\n",
       "        vertical-align: middle;\n",
       "    }\n",
       "\n",
       "    .dataframe tbody tr th {\n",
       "        vertical-align: top;\n",
       "    }\n",
       "\n",
       "    .dataframe thead th {\n",
       "        text-align: right;\n",
       "    }\n",
       "</style>\n",
       "<table border=\"1\" class=\"dataframe\">\n",
       "  <thead>\n",
       "    <tr style=\"text-align: right;\">\n",
       "      <th></th>\n",
       "      <th>callsign</th>\n",
       "      <th>timestamp</th>\n",
       "    </tr>\n",
       "  </thead>\n",
       "  <tbody>\n",
       "    <tr>\n",
       "      <th>0</th>\n",
       "      <td>AAL1122</td>\n",
       "      <td>2017-01-01 10:45:28+00:00</td>\n",
       "    </tr>\n",
       "    <tr>\n",
       "      <th>1</th>\n",
       "      <td>AAL1177</td>\n",
       "      <td>2017-01-01 10:13:21+00:00</td>\n",
       "    </tr>\n",
       "    <tr>\n",
       "      <th>2</th>\n",
       "      <td>AAL230</td>\n",
       "      <td>2017-01-01 10:50:04+00:00</td>\n",
       "    </tr>\n",
       "    <tr>\n",
       "      <th>3</th>\n",
       "      <td>AAL6</td>\n",
       "      <td>2017-01-01 10:53:40+00:00</td>\n",
       "    </tr>\n",
       "    <tr>\n",
       "      <th>4</th>\n",
       "      <td>AAL8</td>\n",
       "      <td>2017-01-01 10:59:14+00:00</td>\n",
       "    </tr>\n",
       "    <tr>\n",
       "      <th>5</th>\n",
       "      <td>AAL962</td>\n",
       "      <td>2017-01-01 10:22:45+00:00</td>\n",
       "    </tr>\n",
       "    <tr>\n",
       "      <th>6</th>\n",
       "      <td>AAL996</td>\n",
       "      <td>2017-01-01 10:30:50+00:00</td>\n",
       "    </tr>\n",
       "    <tr>\n",
       "      <th>7</th>\n",
       "      <td>AAR242</td>\n",
       "      <td>2017-01-01 10:25:58+00:00</td>\n",
       "    </tr>\n",
       "    <tr>\n",
       "      <th>8</th>\n",
       "      <td>ABX3122</td>\n",
       "      <td>2017-01-01 10:36:54+00:00</td>\n",
       "    </tr>\n",
       "    <tr>\n",
       "      <th>9</th>\n",
       "      <td>ASA660</td>\n",
       "      <td>2017-01-01 11:07:45+00:00</td>\n",
       "    </tr>\n",
       "    <tr>\n",
       "      <th>10</th>\n",
       "      <td>GTI3403</td>\n",
       "      <td>2017-01-01 10:03:15+00:00</td>\n",
       "    </tr>\n",
       "    <tr>\n",
       "      <th>11</th>\n",
       "      <td>NKS972</td>\n",
       "      <td>2017-01-01 10:18:13+00:00</td>\n",
       "    </tr>\n",
       "    <tr>\n",
       "      <th>12</th>\n",
       "      <td>SKW5364</td>\n",
       "      <td>2017-01-01 10:15:10+00:00</td>\n",
       "    </tr>\n",
       "  </tbody>\n",
       "</table>\n",
       "</div>"
      ],
      "text/plain": [
       "   callsign                  timestamp\n",
       "0   AAL1122  2017-01-01 10:45:28+00:00\n",
       "1   AAL1177  2017-01-01 10:13:21+00:00\n",
       "2    AAL230  2017-01-01 10:50:04+00:00\n",
       "3      AAL6  2017-01-01 10:53:40+00:00\n",
       "4      AAL8  2017-01-01 10:59:14+00:00\n",
       "5    AAL962  2017-01-01 10:22:45+00:00\n",
       "6    AAL996  2017-01-01 10:30:50+00:00\n",
       "7    AAR242  2017-01-01 10:25:58+00:00\n",
       "8   ABX3122  2017-01-01 10:36:54+00:00\n",
       "9    ASA660  2017-01-01 11:07:45+00:00\n",
       "10  GTI3403  2017-01-01 10:03:15+00:00\n",
       "11   NKS972  2017-01-01 10:18:13+00:00\n",
       "12  SKW5364  2017-01-01 10:15:10+00:00"
      ]
     },
     "execution_count": 21,
     "metadata": {},
     "output_type": "execute_result"
    }
   ],
   "source": [
    "callsign_roi_entrance_time"
   ]
  },
  {
   "cell_type": "code",
   "execution_count": 22,
   "metadata": {},
   "outputs": [],
   "source": [
    "import datetime\n",
    "\n",
    "# Rounding function\n",
    "def round_to_nearest_half_hour(ts):\n",
    "    # Extract minutes\n",
    "    minutes = ts.minute\n",
    "    # Determine if we should round up or down\n",
    "    if minutes < 30:\n",
    "        return ts.replace(minute=0, second=0, microsecond=0)\n",
    "    else:\n",
    "        return ts.replace(minute=30, second=0, microsecond=0)"
   ]
  },
  {
   "cell_type": "code",
   "execution_count": 23,
   "metadata": {},
   "outputs": [],
   "source": [
    "# Convert timestamp strings to datetime\n",
    "callsign_roi_entrance_time['timestamp'] = pd.to_datetime(callsign_roi_entrance_time['timestamp'])\n",
    "callsign_roi_entrance_time['rounded_timestamp'] = callsign_roi_entrance_time['timestamp'].apply(round_to_nearest_half_hour)\n",
    "\n",
    "# Convert rounded_timestamp back to string\n",
    "callsign_roi_entrance_time['rounded_timestamp'] = callsign_roi_entrance_time['rounded_timestamp'].dt.strftime('%Y-%m-%d %H_%M_%S')"
   ]
  },
  {
   "cell_type": "code",
   "execution_count": 24,
   "metadata": {},
   "outputs": [
    {
     "data": {
      "text/html": [
       "<div>\n",
       "<style scoped>\n",
       "    .dataframe tbody tr th:only-of-type {\n",
       "        vertical-align: middle;\n",
       "    }\n",
       "\n",
       "    .dataframe tbody tr th {\n",
       "        vertical-align: top;\n",
       "    }\n",
       "\n",
       "    .dataframe thead th {\n",
       "        text-align: right;\n",
       "    }\n",
       "</style>\n",
       "<table border=\"1\" class=\"dataframe\">\n",
       "  <thead>\n",
       "    <tr style=\"text-align: right;\">\n",
       "      <th></th>\n",
       "      <th>callsign</th>\n",
       "      <th>timestamp</th>\n",
       "      <th>rounded_timestamp</th>\n",
       "    </tr>\n",
       "  </thead>\n",
       "  <tbody>\n",
       "    <tr>\n",
       "      <th>0</th>\n",
       "      <td>AAL1122</td>\n",
       "      <td>2017-01-01 10:45:28+00:00</td>\n",
       "      <td>2017-01-01 10_30_00</td>\n",
       "    </tr>\n",
       "    <tr>\n",
       "      <th>1</th>\n",
       "      <td>AAL1177</td>\n",
       "      <td>2017-01-01 10:13:21+00:00</td>\n",
       "      <td>2017-01-01 10_00_00</td>\n",
       "    </tr>\n",
       "    <tr>\n",
       "      <th>2</th>\n",
       "      <td>AAL230</td>\n",
       "      <td>2017-01-01 10:50:04+00:00</td>\n",
       "      <td>2017-01-01 10_30_00</td>\n",
       "    </tr>\n",
       "    <tr>\n",
       "      <th>3</th>\n",
       "      <td>AAL6</td>\n",
       "      <td>2017-01-01 10:53:40+00:00</td>\n",
       "      <td>2017-01-01 10_30_00</td>\n",
       "    </tr>\n",
       "    <tr>\n",
       "      <th>4</th>\n",
       "      <td>AAL8</td>\n",
       "      <td>2017-01-01 10:59:14+00:00</td>\n",
       "      <td>2017-01-01 10_30_00</td>\n",
       "    </tr>\n",
       "    <tr>\n",
       "      <th>5</th>\n",
       "      <td>AAL962</td>\n",
       "      <td>2017-01-01 10:22:45+00:00</td>\n",
       "      <td>2017-01-01 10_00_00</td>\n",
       "    </tr>\n",
       "    <tr>\n",
       "      <th>6</th>\n",
       "      <td>AAL996</td>\n",
       "      <td>2017-01-01 10:30:50+00:00</td>\n",
       "      <td>2017-01-01 10_30_00</td>\n",
       "    </tr>\n",
       "    <tr>\n",
       "      <th>7</th>\n",
       "      <td>AAR242</td>\n",
       "      <td>2017-01-01 10:25:58+00:00</td>\n",
       "      <td>2017-01-01 10_00_00</td>\n",
       "    </tr>\n",
       "    <tr>\n",
       "      <th>8</th>\n",
       "      <td>ABX3122</td>\n",
       "      <td>2017-01-01 10:36:54+00:00</td>\n",
       "      <td>2017-01-01 10_30_00</td>\n",
       "    </tr>\n",
       "    <tr>\n",
       "      <th>9</th>\n",
       "      <td>ASA660</td>\n",
       "      <td>2017-01-01 11:07:45+00:00</td>\n",
       "      <td>2017-01-01 11_00_00</td>\n",
       "    </tr>\n",
       "    <tr>\n",
       "      <th>10</th>\n",
       "      <td>GTI3403</td>\n",
       "      <td>2017-01-01 10:03:15+00:00</td>\n",
       "      <td>2017-01-01 10_00_00</td>\n",
       "    </tr>\n",
       "    <tr>\n",
       "      <th>11</th>\n",
       "      <td>NKS972</td>\n",
       "      <td>2017-01-01 10:18:13+00:00</td>\n",
       "      <td>2017-01-01 10_00_00</td>\n",
       "    </tr>\n",
       "    <tr>\n",
       "      <th>12</th>\n",
       "      <td>SKW5364</td>\n",
       "      <td>2017-01-01 10:15:10+00:00</td>\n",
       "      <td>2017-01-01 10_00_00</td>\n",
       "    </tr>\n",
       "  </tbody>\n",
       "</table>\n",
       "</div>"
      ],
      "text/plain": [
       "   callsign                 timestamp    rounded_timestamp\n",
       "0   AAL1122 2017-01-01 10:45:28+00:00  2017-01-01 10_30_00\n",
       "1   AAL1177 2017-01-01 10:13:21+00:00  2017-01-01 10_00_00\n",
       "2    AAL230 2017-01-01 10:50:04+00:00  2017-01-01 10_30_00\n",
       "3      AAL6 2017-01-01 10:53:40+00:00  2017-01-01 10_30_00\n",
       "4      AAL8 2017-01-01 10:59:14+00:00  2017-01-01 10_30_00\n",
       "5    AAL962 2017-01-01 10:22:45+00:00  2017-01-01 10_00_00\n",
       "6    AAL996 2017-01-01 10:30:50+00:00  2017-01-01 10_30_00\n",
       "7    AAR242 2017-01-01 10:25:58+00:00  2017-01-01 10_00_00\n",
       "8   ABX3122 2017-01-01 10:36:54+00:00  2017-01-01 10_30_00\n",
       "9    ASA660 2017-01-01 11:07:45+00:00  2017-01-01 11_00_00\n",
       "10  GTI3403 2017-01-01 10:03:15+00:00  2017-01-01 10_00_00\n",
       "11   NKS972 2017-01-01 10:18:13+00:00  2017-01-01 10_00_00\n",
       "12  SKW5364 2017-01-01 10:15:10+00:00  2017-01-01 10_00_00"
      ]
     },
     "execution_count": 24,
     "metadata": {},
     "output_type": "execute_result"
    }
   ],
   "source": [
    "callsign_roi_entrance_time"
   ]
  },
  {
   "cell_type": "markdown",
   "metadata": {},
   "source": [
    "We then compute the number of rows for each callsign"
   ]
  },
  {
   "cell_type": "code",
   "execution_count": 25,
   "metadata": {},
   "outputs": [],
   "source": [
    "callsign_counts = trajs_roi.groupby('callsign').size().reset_index(name='row_count')"
   ]
  },
  {
   "cell_type": "code",
   "execution_count": 26,
   "metadata": {},
   "outputs": [
    {
     "data": {
      "text/html": [
       "<div>\n",
       "<style scoped>\n",
       "    .dataframe tbody tr th:only-of-type {\n",
       "        vertical-align: middle;\n",
       "    }\n",
       "\n",
       "    .dataframe tbody tr th {\n",
       "        vertical-align: top;\n",
       "    }\n",
       "\n",
       "    .dataframe thead th {\n",
       "        text-align: right;\n",
       "    }\n",
       "</style>\n",
       "<table border=\"1\" class=\"dataframe\">\n",
       "  <thead>\n",
       "    <tr style=\"text-align: right;\">\n",
       "      <th></th>\n",
       "      <th>callsign</th>\n",
       "      <th>row_count</th>\n",
       "    </tr>\n",
       "  </thead>\n",
       "  <tbody>\n",
       "    <tr>\n",
       "      <th>0</th>\n",
       "      <td>AAL1122</td>\n",
       "      <td>1411</td>\n",
       "    </tr>\n",
       "    <tr>\n",
       "      <th>1</th>\n",
       "      <td>AAL1177</td>\n",
       "      <td>1505</td>\n",
       "    </tr>\n",
       "    <tr>\n",
       "      <th>2</th>\n",
       "      <td>AAL230</td>\n",
       "      <td>1300</td>\n",
       "    </tr>\n",
       "    <tr>\n",
       "      <th>3</th>\n",
       "      <td>AAL6</td>\n",
       "      <td>1365</td>\n",
       "    </tr>\n",
       "    <tr>\n",
       "      <th>4</th>\n",
       "      <td>AAL8</td>\n",
       "      <td>1305</td>\n",
       "    </tr>\n",
       "    <tr>\n",
       "      <th>5</th>\n",
       "      <td>AAL962</td>\n",
       "      <td>1616</td>\n",
       "    </tr>\n",
       "    <tr>\n",
       "      <th>6</th>\n",
       "      <td>AAL996</td>\n",
       "      <td>1472</td>\n",
       "    </tr>\n",
       "    <tr>\n",
       "      <th>7</th>\n",
       "      <td>AAR242</td>\n",
       "      <td>1558</td>\n",
       "    </tr>\n",
       "    <tr>\n",
       "      <th>8</th>\n",
       "      <td>ABX3122</td>\n",
       "      <td>1261</td>\n",
       "    </tr>\n",
       "    <tr>\n",
       "      <th>9</th>\n",
       "      <td>ASA660</td>\n",
       "      <td>1268</td>\n",
       "    </tr>\n",
       "    <tr>\n",
       "      <th>10</th>\n",
       "      <td>GTI3403</td>\n",
       "      <td>1234</td>\n",
       "    </tr>\n",
       "    <tr>\n",
       "      <th>11</th>\n",
       "      <td>NKS972</td>\n",
       "      <td>1258</td>\n",
       "    </tr>\n",
       "    <tr>\n",
       "      <th>12</th>\n",
       "      <td>SKW5364</td>\n",
       "      <td>1300</td>\n",
       "    </tr>\n",
       "  </tbody>\n",
       "</table>\n",
       "</div>"
      ],
      "text/plain": [
       "   callsign  row_count\n",
       "0   AAL1122       1411\n",
       "1   AAL1177       1505\n",
       "2    AAL230       1300\n",
       "3      AAL6       1365\n",
       "4      AAL8       1305\n",
       "5    AAL962       1616\n",
       "6    AAL996       1472\n",
       "7    AAR242       1558\n",
       "8   ABX3122       1261\n",
       "9    ASA660       1268\n",
       "10  GTI3403       1234\n",
       "11   NKS972       1258\n",
       "12  SKW5364       1300"
      ]
     },
     "execution_count": 26,
     "metadata": {},
     "output_type": "execute_result"
    }
   ],
   "source": [
    "callsign_counts"
   ]
  },
  {
   "cell_type": "markdown",
   "metadata": {},
   "source": [
    "# Writing STX Dataset"
   ]
  },
  {
   "cell_type": "markdown",
   "metadata": {},
   "source": [
    "For preprocessing of trajectory data, we will define following parameters:\n",
    "\n",
    "- $t_{max} = 2000s$, or around 33 minutes of flight maximum for each trajectory.\n",
    "- $n_{f,max} = 12$ flights/30 minutes"
   ]
  },
  {
   "cell_type": "code",
   "execution_count": 35,
   "metadata": {},
   "outputs": [],
   "source": [
    "def trim_and_resample(df, callsign, desired_length = 2000):\n",
    "    df = df[df['callsign'] == callsign]\n",
    "    # convert df['timestamp'] to datetime\n",
    "    df['timestamp'] = pd.to_datetime(df['timestamp'])\n",
    "    df = df.set_index('timestamp')\n",
    "    # fill NaN values \n",
    "    df.fillna(method='ffill', inplace=True)\n",
    "    df = df.resample('1s').agg({\n",
    "        'callsign': 'ffill',\n",
    "        'groundspeed': 'mean',\n",
    "        'latitude': 'mean',\n",
    "        'longitude': 'mean',\n",
    "        'altitude': 'mean',\n",
    "        'track': 'mean',\n",
    "        'vertical_rate': 'mean'\n",
    "    })\n",
    "    df = df.reset_index()\n",
    "    df = df.interpolate()\n",
    "    if len(df) > desired_length:\n",
    "        # trim the trajectory to desired length\n",
    "        df = df.iloc[0:desired_length]\n",
    "    elif len(df) < desired_length:\n",
    "        # repeat the last row until desired length is reached\n",
    "        last_row = df.iloc[-1]\n",
    "        while len(df) < desired_length:\n",
    "            df = pd.concat([df, last_row.to_frame().T])\n",
    "    return df"
   ]
  },
  {
   "cell_type": "code",
   "execution_count": 37,
   "metadata": {},
   "outputs": [
    {
     "name": "stderr",
     "output_type": "stream",
     "text": [
      "/var/folders/lm/mmss816142xg1l8dk_cq_j_h0000gn/T/ipykernel_3602/4062992935.py:4: SettingWithCopyWarning: \n",
      "A value is trying to be set on a copy of a slice from a DataFrame.\n",
      "Try using .loc[row_indexer,col_indexer] = value instead\n",
      "\n",
      "See the caveats in the documentation: https://pandas.pydata.org/pandas-docs/stable/user_guide/indexing.html#returning-a-view-versus-a-copy\n",
      "  df['timestamp'] = pd.to_datetime(df['timestamp'])\n",
      "/var/folders/lm/mmss816142xg1l8dk_cq_j_h0000gn/T/ipykernel_3602/4062992935.py:7: FutureWarning: DataFrame.fillna with 'method' is deprecated and will raise in a future version. Use obj.ffill() or obj.bfill() instead.\n",
      "  df.fillna(method='ffill', inplace=True)\n",
      "/var/folders/lm/mmss816142xg1l8dk_cq_j_h0000gn/T/ipykernel_3602/4062992935.py:18: FutureWarning: DataFrame.interpolate with object dtype is deprecated and will raise in a future version. Call obj.infer_objects(copy=False) before interpolating instead.\n",
      "  df = df.interpolate()\n"
     ]
    }
   ],
   "source": [
    "aal1122 = trim_and_resample(trajs_roi, 'AAL1122')"
   ]
  },
  {
   "cell_type": "code",
   "execution_count": 38,
   "metadata": {},
   "outputs": [
    {
     "data": {
      "text/plain": [
       "array([[31.21646118164062, -95.59941908892466],\n",
       "       [31.21802378509004, -95.60050048828124],\n",
       "       [31.22137554621292, -95.60269775390624],\n",
       "       ...,\n",
       "       [32.87860107421875, -97.05097045898437],\n",
       "       [32.87860107421875, -97.05097045898437],\n",
       "       [32.87860107421875, -97.05097045898437]], dtype=object)"
      ]
     },
     "execution_count": 38,
     "metadata": {},
     "output_type": "execute_result"
    }
   ],
   "source": [
    "aal1122[['latitude', 'longitude']].to_numpy()"
   ]
  },
  {
   "cell_type": "code",
   "execution_count": 27,
   "metadata": {},
   "outputs": [],
   "source": [
    "storm_idents = callsign_roi_entrance_time['rounded_timestamp'].unique().tolist()"
   ]
  },
  {
   "cell_type": "code",
   "execution_count": 39,
   "metadata": {},
   "outputs": [
    {
     "name": "stdout",
     "output_type": "stream",
     "text": [
      "Processing storm 2017-01-01 10_30_00\n"
     ]
    },
    {
     "name": "stderr",
     "output_type": "stream",
     "text": [
      "/var/folders/lm/mmss816142xg1l8dk_cq_j_h0000gn/T/ipykernel_3602/4062992935.py:4: SettingWithCopyWarning: \n",
      "A value is trying to be set on a copy of a slice from a DataFrame.\n",
      "Try using .loc[row_indexer,col_indexer] = value instead\n",
      "\n",
      "See the caveats in the documentation: https://pandas.pydata.org/pandas-docs/stable/user_guide/indexing.html#returning-a-view-versus-a-copy\n",
      "  df['timestamp'] = pd.to_datetime(df['timestamp'])\n",
      "/var/folders/lm/mmss816142xg1l8dk_cq_j_h0000gn/T/ipykernel_3602/4062992935.py:7: FutureWarning: DataFrame.fillna with 'method' is deprecated and will raise in a future version. Use obj.ffill() or obj.bfill() instead.\n",
      "  df.fillna(method='ffill', inplace=True)\n",
      "/var/folders/lm/mmss816142xg1l8dk_cq_j_h0000gn/T/ipykernel_3602/4062992935.py:18: FutureWarning: DataFrame.interpolate with object dtype is deprecated and will raise in a future version. Call obj.infer_objects(copy=False) before interpolating instead.\n",
      "  df = df.interpolate()\n",
      "/var/folders/lm/mmss816142xg1l8dk_cq_j_h0000gn/T/ipykernel_3602/4062992935.py:4: SettingWithCopyWarning: \n",
      "A value is trying to be set on a copy of a slice from a DataFrame.\n",
      "Try using .loc[row_indexer,col_indexer] = value instead\n",
      "\n",
      "See the caveats in the documentation: https://pandas.pydata.org/pandas-docs/stable/user_guide/indexing.html#returning-a-view-versus-a-copy\n",
      "  df['timestamp'] = pd.to_datetime(df['timestamp'])\n",
      "/var/folders/lm/mmss816142xg1l8dk_cq_j_h0000gn/T/ipykernel_3602/4062992935.py:7: FutureWarning: DataFrame.fillna with 'method' is deprecated and will raise in a future version. Use obj.ffill() or obj.bfill() instead.\n",
      "  df.fillna(method='ffill', inplace=True)\n",
      "/var/folders/lm/mmss816142xg1l8dk_cq_j_h0000gn/T/ipykernel_3602/4062992935.py:18: FutureWarning: DataFrame.interpolate with object dtype is deprecated and will raise in a future version. Call obj.infer_objects(copy=False) before interpolating instead.\n",
      "  df = df.interpolate()\n",
      "/var/folders/lm/mmss816142xg1l8dk_cq_j_h0000gn/T/ipykernel_3602/4062992935.py:4: SettingWithCopyWarning: \n",
      "A value is trying to be set on a copy of a slice from a DataFrame.\n",
      "Try using .loc[row_indexer,col_indexer] = value instead\n",
      "\n",
      "See the caveats in the documentation: https://pandas.pydata.org/pandas-docs/stable/user_guide/indexing.html#returning-a-view-versus-a-copy\n",
      "  df['timestamp'] = pd.to_datetime(df['timestamp'])\n",
      "/var/folders/lm/mmss816142xg1l8dk_cq_j_h0000gn/T/ipykernel_3602/4062992935.py:7: FutureWarning: DataFrame.fillna with 'method' is deprecated and will raise in a future version. Use obj.ffill() or obj.bfill() instead.\n",
      "  df.fillna(method='ffill', inplace=True)\n",
      "/var/folders/lm/mmss816142xg1l8dk_cq_j_h0000gn/T/ipykernel_3602/4062992935.py:18: FutureWarning: DataFrame.interpolate with object dtype is deprecated and will raise in a future version. Call obj.infer_objects(copy=False) before interpolating instead.\n",
      "  df = df.interpolate()\n",
      "/var/folders/lm/mmss816142xg1l8dk_cq_j_h0000gn/T/ipykernel_3602/4062992935.py:4: SettingWithCopyWarning: \n",
      "A value is trying to be set on a copy of a slice from a DataFrame.\n",
      "Try using .loc[row_indexer,col_indexer] = value instead\n",
      "\n",
      "See the caveats in the documentation: https://pandas.pydata.org/pandas-docs/stable/user_guide/indexing.html#returning-a-view-versus-a-copy\n",
      "  df['timestamp'] = pd.to_datetime(df['timestamp'])\n",
      "/var/folders/lm/mmss816142xg1l8dk_cq_j_h0000gn/T/ipykernel_3602/4062992935.py:7: FutureWarning: DataFrame.fillna with 'method' is deprecated and will raise in a future version. Use obj.ffill() or obj.bfill() instead.\n",
      "  df.fillna(method='ffill', inplace=True)\n",
      "/var/folders/lm/mmss816142xg1l8dk_cq_j_h0000gn/T/ipykernel_3602/4062992935.py:18: FutureWarning: DataFrame.interpolate with object dtype is deprecated and will raise in a future version. Call obj.infer_objects(copy=False) before interpolating instead.\n",
      "  df = df.interpolate()\n",
      "/var/folders/lm/mmss816142xg1l8dk_cq_j_h0000gn/T/ipykernel_3602/4062992935.py:4: SettingWithCopyWarning: \n",
      "A value is trying to be set on a copy of a slice from a DataFrame.\n",
      "Try using .loc[row_indexer,col_indexer] = value instead\n",
      "\n",
      "See the caveats in the documentation: https://pandas.pydata.org/pandas-docs/stable/user_guide/indexing.html#returning-a-view-versus-a-copy\n",
      "  df['timestamp'] = pd.to_datetime(df['timestamp'])\n",
      "/var/folders/lm/mmss816142xg1l8dk_cq_j_h0000gn/T/ipykernel_3602/4062992935.py:7: FutureWarning: DataFrame.fillna with 'method' is deprecated and will raise in a future version. Use obj.ffill() or obj.bfill() instead.\n",
      "  df.fillna(method='ffill', inplace=True)\n",
      "/var/folders/lm/mmss816142xg1l8dk_cq_j_h0000gn/T/ipykernel_3602/4062992935.py:18: FutureWarning: DataFrame.interpolate with object dtype is deprecated and will raise in a future version. Call obj.infer_objects(copy=False) before interpolating instead.\n",
      "  df = df.interpolate()\n",
      "/var/folders/lm/mmss816142xg1l8dk_cq_j_h0000gn/T/ipykernel_3602/4062992935.py:4: SettingWithCopyWarning: \n",
      "A value is trying to be set on a copy of a slice from a DataFrame.\n",
      "Try using .loc[row_indexer,col_indexer] = value instead\n",
      "\n",
      "See the caveats in the documentation: https://pandas.pydata.org/pandas-docs/stable/user_guide/indexing.html#returning-a-view-versus-a-copy\n",
      "  df['timestamp'] = pd.to_datetime(df['timestamp'])\n",
      "/var/folders/lm/mmss816142xg1l8dk_cq_j_h0000gn/T/ipykernel_3602/4062992935.py:7: FutureWarning: DataFrame.fillna with 'method' is deprecated and will raise in a future version. Use obj.ffill() or obj.bfill() instead.\n",
      "  df.fillna(method='ffill', inplace=True)\n",
      "/var/folders/lm/mmss816142xg1l8dk_cq_j_h0000gn/T/ipykernel_3602/4062992935.py:18: FutureWarning: DataFrame.interpolate with object dtype is deprecated and will raise in a future version. Call obj.infer_objects(copy=False) before interpolating instead.\n",
      "  df = df.interpolate()\n"
     ]
    },
    {
     "name": "stdout",
     "output_type": "stream",
     "text": [
      "Processing storm 2017-01-01 10_00_00\n"
     ]
    },
    {
     "name": "stderr",
     "output_type": "stream",
     "text": [
      "/var/folders/lm/mmss816142xg1l8dk_cq_j_h0000gn/T/ipykernel_3602/4062992935.py:4: SettingWithCopyWarning: \n",
      "A value is trying to be set on a copy of a slice from a DataFrame.\n",
      "Try using .loc[row_indexer,col_indexer] = value instead\n",
      "\n",
      "See the caveats in the documentation: https://pandas.pydata.org/pandas-docs/stable/user_guide/indexing.html#returning-a-view-versus-a-copy\n",
      "  df['timestamp'] = pd.to_datetime(df['timestamp'])\n",
      "/var/folders/lm/mmss816142xg1l8dk_cq_j_h0000gn/T/ipykernel_3602/4062992935.py:7: FutureWarning: DataFrame.fillna with 'method' is deprecated and will raise in a future version. Use obj.ffill() or obj.bfill() instead.\n",
      "  df.fillna(method='ffill', inplace=True)\n",
      "/var/folders/lm/mmss816142xg1l8dk_cq_j_h0000gn/T/ipykernel_3602/4062992935.py:18: FutureWarning: DataFrame.interpolate with object dtype is deprecated and will raise in a future version. Call obj.infer_objects(copy=False) before interpolating instead.\n",
      "  df = df.interpolate()\n",
      "/var/folders/lm/mmss816142xg1l8dk_cq_j_h0000gn/T/ipykernel_3602/4062992935.py:4: SettingWithCopyWarning: \n",
      "A value is trying to be set on a copy of a slice from a DataFrame.\n",
      "Try using .loc[row_indexer,col_indexer] = value instead\n",
      "\n",
      "See the caveats in the documentation: https://pandas.pydata.org/pandas-docs/stable/user_guide/indexing.html#returning-a-view-versus-a-copy\n",
      "  df['timestamp'] = pd.to_datetime(df['timestamp'])\n",
      "/var/folders/lm/mmss816142xg1l8dk_cq_j_h0000gn/T/ipykernel_3602/4062992935.py:7: FutureWarning: DataFrame.fillna with 'method' is deprecated and will raise in a future version. Use obj.ffill() or obj.bfill() instead.\n",
      "  df.fillna(method='ffill', inplace=True)\n",
      "/var/folders/lm/mmss816142xg1l8dk_cq_j_h0000gn/T/ipykernel_3602/4062992935.py:18: FutureWarning: DataFrame.interpolate with object dtype is deprecated and will raise in a future version. Call obj.infer_objects(copy=False) before interpolating instead.\n",
      "  df = df.interpolate()\n",
      "/var/folders/lm/mmss816142xg1l8dk_cq_j_h0000gn/T/ipykernel_3602/4062992935.py:4: SettingWithCopyWarning: \n",
      "A value is trying to be set on a copy of a slice from a DataFrame.\n",
      "Try using .loc[row_indexer,col_indexer] = value instead\n",
      "\n",
      "See the caveats in the documentation: https://pandas.pydata.org/pandas-docs/stable/user_guide/indexing.html#returning-a-view-versus-a-copy\n",
      "  df['timestamp'] = pd.to_datetime(df['timestamp'])\n",
      "/var/folders/lm/mmss816142xg1l8dk_cq_j_h0000gn/T/ipykernel_3602/4062992935.py:7: FutureWarning: DataFrame.fillna with 'method' is deprecated and will raise in a future version. Use obj.ffill() or obj.bfill() instead.\n",
      "  df.fillna(method='ffill', inplace=True)\n",
      "/var/folders/lm/mmss816142xg1l8dk_cq_j_h0000gn/T/ipykernel_3602/4062992935.py:18: FutureWarning: DataFrame.interpolate with object dtype is deprecated and will raise in a future version. Call obj.infer_objects(copy=False) before interpolating instead.\n",
      "  df = df.interpolate()\n",
      "/var/folders/lm/mmss816142xg1l8dk_cq_j_h0000gn/T/ipykernel_3602/4062992935.py:4: SettingWithCopyWarning: \n",
      "A value is trying to be set on a copy of a slice from a DataFrame.\n",
      "Try using .loc[row_indexer,col_indexer] = value instead\n",
      "\n",
      "See the caveats in the documentation: https://pandas.pydata.org/pandas-docs/stable/user_guide/indexing.html#returning-a-view-versus-a-copy\n",
      "  df['timestamp'] = pd.to_datetime(df['timestamp'])\n",
      "/var/folders/lm/mmss816142xg1l8dk_cq_j_h0000gn/T/ipykernel_3602/4062992935.py:7: FutureWarning: DataFrame.fillna with 'method' is deprecated and will raise in a future version. Use obj.ffill() or obj.bfill() instead.\n",
      "  df.fillna(method='ffill', inplace=True)\n",
      "/var/folders/lm/mmss816142xg1l8dk_cq_j_h0000gn/T/ipykernel_3602/4062992935.py:18: FutureWarning: DataFrame.interpolate with object dtype is deprecated and will raise in a future version. Call obj.infer_objects(copy=False) before interpolating instead.\n",
      "  df = df.interpolate()\n",
      "/var/folders/lm/mmss816142xg1l8dk_cq_j_h0000gn/T/ipykernel_3602/4062992935.py:4: SettingWithCopyWarning: \n",
      "A value is trying to be set on a copy of a slice from a DataFrame.\n",
      "Try using .loc[row_indexer,col_indexer] = value instead\n",
      "\n",
      "See the caveats in the documentation: https://pandas.pydata.org/pandas-docs/stable/user_guide/indexing.html#returning-a-view-versus-a-copy\n",
      "  df['timestamp'] = pd.to_datetime(df['timestamp'])\n",
      "/var/folders/lm/mmss816142xg1l8dk_cq_j_h0000gn/T/ipykernel_3602/4062992935.py:7: FutureWarning: DataFrame.fillna with 'method' is deprecated and will raise in a future version. Use obj.ffill() or obj.bfill() instead.\n",
      "  df.fillna(method='ffill', inplace=True)\n",
      "/var/folders/lm/mmss816142xg1l8dk_cq_j_h0000gn/T/ipykernel_3602/4062992935.py:18: FutureWarning: DataFrame.interpolate with object dtype is deprecated and will raise in a future version. Call obj.infer_objects(copy=False) before interpolating instead.\n",
      "  df = df.interpolate()\n",
      "/var/folders/lm/mmss816142xg1l8dk_cq_j_h0000gn/T/ipykernel_3602/4062992935.py:4: SettingWithCopyWarning: \n",
      "A value is trying to be set on a copy of a slice from a DataFrame.\n",
      "Try using .loc[row_indexer,col_indexer] = value instead\n",
      "\n",
      "See the caveats in the documentation: https://pandas.pydata.org/pandas-docs/stable/user_guide/indexing.html#returning-a-view-versus-a-copy\n",
      "  df['timestamp'] = pd.to_datetime(df['timestamp'])\n",
      "/var/folders/lm/mmss816142xg1l8dk_cq_j_h0000gn/T/ipykernel_3602/4062992935.py:7: FutureWarning: DataFrame.fillna with 'method' is deprecated and will raise in a future version. Use obj.ffill() or obj.bfill() instead.\n",
      "  df.fillna(method='ffill', inplace=True)\n",
      "/var/folders/lm/mmss816142xg1l8dk_cq_j_h0000gn/T/ipykernel_3602/4062992935.py:18: FutureWarning: DataFrame.interpolate with object dtype is deprecated and will raise in a future version. Call obj.infer_objects(copy=False) before interpolating instead.\n",
      "  df = df.interpolate()\n"
     ]
    },
    {
     "name": "stdout",
     "output_type": "stream",
     "text": [
      "Processing storm 2017-01-01 11_00_00\n"
     ]
    },
    {
     "name": "stderr",
     "output_type": "stream",
     "text": [
      "/var/folders/lm/mmss816142xg1l8dk_cq_j_h0000gn/T/ipykernel_3602/4062992935.py:4: SettingWithCopyWarning: \n",
      "A value is trying to be set on a copy of a slice from a DataFrame.\n",
      "Try using .loc[row_indexer,col_indexer] = value instead\n",
      "\n",
      "See the caveats in the documentation: https://pandas.pydata.org/pandas-docs/stable/user_guide/indexing.html#returning-a-view-versus-a-copy\n",
      "  df['timestamp'] = pd.to_datetime(df['timestamp'])\n",
      "/var/folders/lm/mmss816142xg1l8dk_cq_j_h0000gn/T/ipykernel_3602/4062992935.py:7: FutureWarning: DataFrame.fillna with 'method' is deprecated and will raise in a future version. Use obj.ffill() or obj.bfill() instead.\n",
      "  df.fillna(method='ffill', inplace=True)\n",
      "/var/folders/lm/mmss816142xg1l8dk_cq_j_h0000gn/T/ipykernel_3602/4062992935.py:18: FutureWarning: DataFrame.interpolate with object dtype is deprecated and will raise in a future version. Call obj.infer_objects(copy=False) before interpolating instead.\n",
      "  df = df.interpolate()\n"
     ]
    }
   ],
   "source": [
    "import os\n",
    "desired_length = 2000\n",
    "\n",
    "for storm_ident in storm_idents:\n",
    "    print('Processing storm {}'.format(storm_ident))\n",
    "    callsign_of_storm = callsign_roi_entrance_time[callsign_roi_entrance_time['rounded_timestamp'] == storm_ident]['callsign'].tolist()\n",
    "\n",
    "    big_trajectory = np.empty((0, 2, desired_length))\n",
    "    for callsign in callsign_of_storm:\n",
    "        processed_trajectory_df = trim_and_resample(trajs_roi, callsign, desired_length)\n",
    "        # create a new np array\n",
    "        processed_trajectory = processed_trajectory_df[['latitude', 'longitude']].to_numpy().reshape(1, 2, desired_length)\n",
    "        # concatenate to big_trajectory\n",
    "        big_trajectory = np.concatenate((big_trajectory, processed_trajectory), axis=0)\n",
    "    \n",
    "    # save the big_trajectory\n",
    "    np.savez_compressed(os.path.join('stx', storm_ident), big_trajectory)"
   ]
  },
  {
   "cell_type": "code",
   "execution_count": null,
   "metadata": {},
   "outputs": [],
   "source": []
  }
 ],
 "metadata": {
  "kernelspec": {
   "display_name": "traffic",
   "language": "python",
   "name": "python3"
  },
  "language_info": {
   "codemirror_mode": {
    "name": "ipython",
    "version": 3
   },
   "file_extension": ".py",
   "mimetype": "text/x-python",
   "name": "python",
   "nbconvert_exporter": "python",
   "pygments_lexer": "ipython3",
   "version": "3.10.13"
  }
 },
 "nbformat": 4,
 "nbformat_minor": 2
}
