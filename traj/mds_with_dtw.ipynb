{
 "cells": [
  {
   "cell_type": "code",
   "execution_count": 1,
   "metadata": {},
   "outputs": [],
   "source": [
    "import numpy as np\n",
    "from dtaidistance import dtw"
   ]
  },
  {
   "cell_type": "code",
   "execution_count": 2,
   "metadata": {},
   "outputs": [],
   "source": [
    "trajs = np.load('stx/2017-01-01 10_00_00.npz', allow_pickle=True)['arr_0']"
   ]
  },
  {
   "cell_type": "code",
   "execution_count": 6,
   "metadata": {},
   "outputs": [],
   "source": [
    "from multiprocess import Pool, Queue\n",
    "from multiprocess import Pool\n",
    "\n",
    "def fill_distance_matrix(first_indices, second_indices, trajs, axis):\n",
    "    print(f\"Worker: {first_indices}, {second_indices}\")\n",
    "    try:\n",
    "        dist_matrix = np.zeros((len(first_indices), len(second_indices)))\n",
    "        for i, first_index in enumerate(first_indices):\n",
    "            for j, second_index in enumerate(second_indices):\n",
    "                dist_matrix[i, j] = dtw.distance_fast(trajs[first_index, axis, :], trajs[second_index, axis, :])\n",
    "        return (first_indices, second_indices, dist_matrix)\n",
    "    except Exception as e:\n",
    "        print(f\"Error in worker: {e}\")\n",
    "        return (first_indices, second_indices, None)\n",
    "\n",
    "def fill_distance_matrix_parallel(trajs, axis, n_jobs=2):\n",
    "    \n",
    "    indices = np.arange(trajs.shape[0])\n",
    "    indices_split = np.array_split(indices, n_jobs)\n",
    "    indices_set = [(indices_split[i], indices_split[j]) for i in range(n_jobs) for j in range(n_jobs) if j > i]\n",
    "\n",
    "    print('Matrix partition complete')\n",
    "    \n",
    "    pool = Pool(n_jobs)\n",
    "    results = pool.starmap(fill_distance_matrix, [(indices_pair[0], indices_pair[1], trajs, axis) for indices_pair in indices_set])\n",
    "    pool.close()\n",
    "    pool.join()\n",
    "    \n",
    "    dist_matrix = np.zeros((len(trajs), len(trajs)))\n",
    "    for fi, si, dm in results:\n",
    "        if dm is not None:\n",
    "            for i, f_index in enumerate(fi):\n",
    "                for j, s_index in enumerate(si):\n",
    "                    dist_matrix[f_index, s_index] = dm[i, j]\n",
    "    \n",
    "    return dist_matrix"
   ]
  },
  {
   "cell_type": "code",
   "execution_count": 7,
   "metadata": {},
   "outputs": [
    {
     "name": "stdout",
     "output_type": "stream",
     "text": [
      "Matrix partition complete\n",
      "Worker: [0 1], [2]\n"
     ]
    },
    {
     "data": {
      "text/plain": [
       "array([[ 0.        ,  0.        ,  6.27900182],\n",
       "       [ 0.        ,  0.        , 15.89727094],\n",
       "       [ 0.        ,  0.        ,  0.        ]])"
      ]
     },
     "execution_count": 7,
     "metadata": {},
     "output_type": "execute_result"
    }
   ],
   "source": [
    "fill_distance_matrix_parallel(trajs.astype(np.float64), 0, n_jobs=2)"
   ]
  },
  {
   "cell_type": "code",
   "execution_count": null,
   "metadata": {},
   "outputs": [],
   "source": []
  }
 ],
 "metadata": {
  "kernelspec": {
   "display_name": "traffic",
   "language": "python",
   "name": "python3"
  },
  "language_info": {
   "codemirror_mode": {
    "name": "ipython",
    "version": 3
   },
   "file_extension": ".py",
   "mimetype": "text/x-python",
   "name": "python",
   "nbconvert_exporter": "python",
   "pygments_lexer": "ipython3",
   "version": "3.9.13"
  }
 },
 "nbformat": 4,
 "nbformat_minor": 2
}
