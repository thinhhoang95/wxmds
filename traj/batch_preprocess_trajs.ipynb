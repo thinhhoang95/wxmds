{
 "cells": [
  {
   "cell_type": "code",
   "execution_count": 3,
   "metadata": {},
   "outputs": [],
   "source": [
    "%load_ext autoreload\n",
    "%autoreload 2"
   ]
  },
  {
   "cell_type": "code",
   "execution_count": 4,
   "metadata": {},
   "outputs": [],
   "source": [
    "import pandas as pd \n",
    "import numpy as np\n",
    "from matplotlib import pyplot as plt"
   ]
  },
  {
   "cell_type": "code",
   "execution_count": 5,
   "metadata": {},
   "outputs": [],
   "source": [
    "# Add search path \n",
    "import sys\n",
    "sys.path.append('../wx')\n",
    "from roi import KDFW, ROI_RADIUS, WX_ROI # KDFW coordinates"
   ]
  },
  {
   "cell_type": "code",
   "execution_count": 6,
   "metadata": {},
   "outputs": [],
   "source": [
    "def haversine(lat1, lon1, lat2, lon2):\n",
    "    # Radius of the Earth in kilometers\n",
    "    R = 6371.0\n",
    "\n",
    "    # Convert coordinates from degrees to radians\n",
    "    lat1 = np.radians(lat1)\n",
    "    lon1 = np.radians(lon1)\n",
    "    lat2 = np.radians(lat2)\n",
    "    lon2 = np.radians(lon2)\n",
    "\n",
    "    # Haversine formula\n",
    "    dlon = lon2 - lon1\n",
    "    dlat = lat2 - lat1\n",
    "    a = np.sin(dlat / 2)**2 + np.cos(lat1) * np.cos(lat2) * np.sin(dlon / 2)**2\n",
    "    c = 2 * np.arctan2(np.sqrt(a), np.sqrt(1 - a))\n",
    "\n",
    "    distance = R * c\n",
    "    return distance # in kilometers\n"
   ]
  },
  {
   "cell_type": "markdown",
   "metadata": {},
   "source": [
    "# Dropping functions"
   ]
  },
  {
   "cell_type": "code",
   "execution_count": 7,
   "metadata": {},
   "outputs": [],
   "source": [
    "def add_distance_col_to_df(df):\n",
    "    df['distance'] = haversine(df['latitude'], df['longitude'], KDFW[1], KDFW[0]) # KDFW[1] is latitude, KDFW[0] is longitude\n",
    "    \n",
    "# Sample usage: add_distance_col_to_df(df) / inline modification"
   ]
  },
  {
   "cell_type": "code",
   "execution_count": 8,
   "metadata": {},
   "outputs": [],
   "source": [
    "def drop_callsigns_not_far_enough_away(df):\n",
    "    # Compute the max distance for each callsign\n",
    "    max_distance_per_callsign = df.groupby('callsign')['distance'].max()\n",
    "\n",
    "    # Callsigns that are within the radius\n",
    "    callsigns_to_drop = max_distance_per_callsign[max_distance_per_callsign < ROI_RADIUS].index\n",
    "    print('There are {} callsigns within the radius to be dropped'.format(len(callsigns_to_drop)))\n",
    "\n",
    "    # Drop callsigns that are within the radius\n",
    "    return df[~df['callsign'].isin(callsigns_to_drop)]\n",
    "\n",
    "# Sample usage: df = drop_callsigns_not_far_enough_away(df) / copy"
   ]
  },
  {
   "cell_type": "code",
   "execution_count": 9,
   "metadata": {},
   "outputs": [],
   "source": [
    "def drop_callsigns_yet_landed(df):\n",
    "    # Compute the max distance for each callsign\n",
    "    min_distance_per_callsign = df.groupby('callsign')['distance'].min()\n",
    "\n",
    "    # Callsigns that are within the radius\n",
    "    callsigns_to_drop_2 = min_distance_per_callsign[min_distance_per_callsign > 30].index # 4km within the airport is considered as at the airport\n",
    "    print('There are {} callsigns that haven\\'t landed and was dropped'.format(len(callsigns_to_drop_2)))\n",
    "\n",
    "    # Drop callsigns that are within the radius\n",
    "    return df[~df['callsign'].isin(callsigns_to_drop_2)]"
   ]
  },
  {
   "cell_type": "markdown",
   "metadata": {},
   "source": [
    "# Trimming functions"
   ]
  },
  {
   "cell_type": "code",
   "execution_count": 10,
   "metadata": {},
   "outputs": [],
   "source": [
    "def trim_df_to_roi_radius(df):\n",
    "    return df[df['distance'] <= ROI_RADIUS]\n"
   ]
  },
  {
   "cell_type": "code",
   "execution_count": 11,
   "metadata": {},
   "outputs": [],
   "source": [
    "def trim_and_resample(df, callsign, desired_length = 2000):\n",
    "    df = df[df['callsign'] == callsign]\n",
    "    # convert df['timestamp'] to datetime\n",
    "    df['timestamp'] = pd.to_datetime(df['timestamp'])\n",
    "    df = df.set_index('timestamp')\n",
    "    # fill NaN values \n",
    "    df.fillna(method='ffill', inplace=True)\n",
    "    df = df.resample('1s').agg({\n",
    "        'callsign': 'ffill',\n",
    "        'groundspeed': 'mean',\n",
    "        'latitude': 'mean',\n",
    "        'longitude': 'mean',\n",
    "        'altitude': 'mean',\n",
    "        'track': 'mean',\n",
    "        'vertical_rate': 'mean'\n",
    "    })\n",
    "    df = df.reset_index()\n",
    "    # df = df.interpolate()\n",
    "    if len(df) > desired_length:\n",
    "        # trim the trajectory to desired length\n",
    "        df = df.iloc[0:desired_length]\n",
    "    elif len(df) < desired_length:\n",
    "        # repeat the last row until desired length is reached\n",
    "        last_row = df.iloc[-1]\n",
    "        while len(df) < desired_length:\n",
    "            df = pd.concat([df, last_row.to_frame().T])\n",
    "    return df"
   ]
  },
  {
   "cell_type": "markdown",
   "metadata": {},
   "source": [
    "# Callsign thunderstorm attribution"
   ]
  },
  {
   "cell_type": "code",
   "execution_count": 12,
   "metadata": {},
   "outputs": [],
   "source": [
    "import datetime\n",
    "\n",
    "# Rounding function\n",
    "def round_to_nearest_half_hour(ts):\n",
    "    # Extract minutes\n",
    "    minutes = ts.minute\n",
    "    # Determine if we should round up or down\n",
    "    if minutes < 30:\n",
    "        return ts.replace(minute=0, second=0, microsecond=0)\n",
    "    else:\n",
    "        return ts.replace(minute=30, second=0, microsecond=0)"
   ]
  },
  {
   "cell_type": "code",
   "execution_count": 13,
   "metadata": {},
   "outputs": [],
   "source": [
    "def get_roi_entrance_time(df):\n",
    "    callsign_roi_entrance_time = df.groupby('callsign')['timestamp'].min().reset_index()\n",
    "    # Convert timestamp strings to datetime\n",
    "    callsign_roi_entrance_time['timestamp'] = pd.to_datetime(callsign_roi_entrance_time['timestamp'])\n",
    "    callsign_roi_entrance_time['rounded_timestamp'] = callsign_roi_entrance_time['timestamp'].apply(round_to_nearest_half_hour)\n",
    "\n",
    "    # Convert rounded_timestamp back to string\n",
    "    callsign_roi_entrance_time['rounded_timestamp'] = callsign_roi_entrance_time['rounded_timestamp'].dt.strftime('%Y-%m-%d %H_%M_%S')\n",
    "    \n",
    "    return callsign_roi_entrance_time"
   ]
  },
  {
   "cell_type": "markdown",
   "metadata": {},
   "source": [
    "# Preprocessing of Trajectories (Main Entry Point)"
   ]
  },
  {
   "cell_type": "code",
   "execution_count": 14,
   "metadata": {},
   "outputs": [],
   "source": [
    "# surpress warnings \n",
    "import warnings\n",
    "warnings.filterwarnings('ignore')"
   ]
  },
  {
   "cell_type": "code",
   "execution_count": 15,
   "metadata": {},
   "outputs": [
    {
     "name": "stdout",
     "output_type": "stream",
     "text": [
      "Found 1 CSV files in ../tx/\n"
     ]
    }
   ],
   "source": [
    "traj_dir = \"../tx/\"\n",
    "# Find all CSV files in the directory\n",
    "import glob\n",
    "traj_files = glob.glob(traj_dir + \"*.csv\")\n",
    "print(\"Found {} CSV files in {}\".format(len(traj_files), traj_dir))"
   ]
  },
  {
   "cell_type": "code",
   "execution_count": 16,
   "metadata": {},
   "outputs": [
    {
     "name": "stdout",
     "output_type": "stream",
     "text": [
      "There are 0 callsigns within the radius to be dropped\n",
      "There are 18 callsigns that haven't landed and was dropped\n",
      "Processing storm 2017-01-01 10_30_00\n",
      "Processing storm 2017-01-01 10_00_00\n",
      "Processing storm 2017-01-01 11_00_00\n"
     ]
    }
   ],
   "source": [
    "for csv_file in traj_files:\n",
    "    # try:\n",
    "    df = pd.read_csv(csv_file)\n",
    "    df = df[['callsign', 'groundspeed', 'timestamp', 'latitude', 'longitude', 'altitude', 'track', 'vertical_rate']]\n",
    "    # Distance preprocessing\n",
    "    add_distance_col_to_df(df)\n",
    "    df = drop_callsigns_not_far_enough_away(df)\n",
    "    df = drop_callsigns_yet_landed(df)\n",
    "    df = trim_df_to_roi_radius(df)\n",
    "    roi_entrance_time = get_roi_entrance_time(df)\n",
    "    storm_idents = roi_entrance_time['rounded_timestamp'].unique().tolist()\n",
    "    import os\n",
    "    desired_length = 2000\n",
    "\n",
    "    for storm_ident in storm_idents:\n",
    "        print('Processing storm {}'.format(storm_ident))\n",
    "        callsign_of_storm = roi_entrance_time[roi_entrance_time['rounded_timestamp'] == storm_ident]['callsign'].tolist()\n",
    "\n",
    "        big_trajectory = np.empty((0, 2, desired_length))\n",
    "        for callsign in callsign_of_storm:\n",
    "            processed_trajectory_df = trim_and_resample(df, callsign, desired_length)\n",
    "            # create a new np array\n",
    "            processed_trajectory = processed_trajectory_df[['latitude', 'longitude']].to_numpy().T.reshape(1, 2, -1)\n",
    "            # concatenate to big_trajectory\n",
    "            big_trajectory = np.concatenate((big_trajectory, processed_trajectory), axis=0)\n",
    "        \n",
    "        # save the big_trajectory\n",
    "        np.savez_compressed(os.path.join('stx', storm_ident), big_trajectory)\n",
    "            \n",
    "    # except Exception as e:\n",
    "    #     print(e)\n",
    "    #     print('Error processing {}'.format(csv_file))"
   ]
  },
  {
   "cell_type": "code",
   "execution_count": 17,
   "metadata": {},
   "outputs": [],
   "source": [
    "# !rm -rf stx/*"
   ]
  },
  {
   "cell_type": "code",
   "execution_count": null,
   "metadata": {},
   "outputs": [],
   "source": []
  }
 ],
 "metadata": {
  "kernelspec": {
   "display_name": "traffic",
   "language": "python",
   "name": "python3"
  },
  "language_info": {
   "codemirror_mode": {
    "name": "ipython",
    "version": 3
   },
   "file_extension": ".py",
   "mimetype": "text/x-python",
   "name": "python",
   "nbconvert_exporter": "python",
   "pygments_lexer": "ipython3",
   "version": "3.9.13"
  }
 },
 "nbformat": 4,
 "nbformat_minor": 2
}
