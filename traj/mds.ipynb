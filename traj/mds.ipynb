{
  "cells": [
    {
      "cell_type": "code",
      "execution_count": null,
      "metadata": {
        "id": "EaLdHxFbveQu"
      },
      "outputs": [],
      "source": [
        "from sklearn.manifold import MDS\n",
        "from sklearn.metrics.pairwise import euclidean_distances\n",
        "import matplotlib.pyplot as plt\n",
        "import numpy as np"
      ]
    },
    {
      "cell_type": "code",
      "execution_count": null,
      "metadata": {
        "colab": {
          "base_uri": "https://localhost:8080/"
        },
        "id": "w2PMy-w9vvC0",
        "outputId": "a32ced97-3db0-4c15-9925-8a86a91b82a0"
      },
      "outputs": [
        {
          "name": "stdout",
          "output_type": "stream",
          "text": [
            "Mounted at /content/drive\n"
          ]
        }
      ],
      "source": [
        "from google.colab import drive\n",
        "drive.mount('/content/drive')"
      ]
    },
    {
      "cell_type": "code",
      "execution_count": null,
      "metadata": {
        "id": "DO6Y_zjJv5ur"
      },
      "outputs": [],
      "source": [
        "!cp /content/drive/MyDrive/stx17.tar.gz stx17.tar.gz\n",
        "!mkdir -p stx\n",
        "!tar -xzf stx17.tar.gz -C stx/"
      ]
    },
    {
      "cell_type": "code",
      "execution_count": null,
      "metadata": {
        "colab": {
          "base_uri": "https://localhost:8080/"
        },
        "id": "SNjcN3E_veQw",
        "outputId": "81c9426b-5b89-4aa2-991b-4340c52d6dd8"
      },
      "outputs": [
        {
          "name": "stdout",
          "output_type": "stream",
          "text": [
            "Found 3696 trajectory files\n"
          ]
        }
      ],
      "source": [
        "# find all npz files in the stx folder\n",
        "import glob\n",
        "trajectory_files = glob.glob('stx/stx/*.npz')\n",
        "print('Found %d trajectory files' % len(trajectory_files))"
      ]
    },
    {
      "cell_type": "code",
      "execution_count": null,
      "metadata": {
        "id": "VYhvudWfwX1q"
      },
      "outputs": [],
      "source": [
        "from tqdm import tqdm"
      ]
    },
    {
      "cell_type": "code",
      "execution_count": null,
      "metadata": {
        "id": "X04PCwGyzDzx"
      },
      "outputs": [],
      "source": [
        "def split_into_chunks(array, n=4):\n",
        "    chunk_size = len(array) // n\n",
        "    return [array[i * chunk_size:(i + 1) * chunk_size] for i in range(n)]"
      ]
    },
    {
      "cell_type": "code",
      "execution_count": null,
      "metadata": {
        "id": "39-N0xjsveQz"
      },
      "outputs": [],
      "source": [
        "import numpy as np\n",
        "\n",
        "def fill_nan_with_avg(arr_ds):\n",
        "    for first_index in range(arr_ds.shape[0]):\n",
        "        for second_index in range(arr_ds.shape[1]):\n",
        "            arr = arr_ds[first_index, second_index, :]\n",
        "            nans = np.isnan(arr)\n",
        "            for i in range(len(arr)):\n",
        "                if nans[i]:\n",
        "                    left = right = np.nan\n",
        "                    # Find nearest non-NaN value to the left\n",
        "                    for j in range(i-1, -1, -1):\n",
        "                        if not nans[j]:\n",
        "                            left = arr[j]\n",
        "                            break\n",
        "\n",
        "                    # Find nearest non-NaN value to the right\n",
        "                    for j in range(i+1, len(arr)):\n",
        "                        if not nans[j]:\n",
        "                            right = arr[j]\n",
        "                            break\n",
        "\n",
        "                    # Calculate average if both neighbors are found\n",
        "                    if not np.isnan(left) and not np.isnan(right):\n",
        "                        arr[i] = (left + right) / 2\n",
        "                    # If only one neighbor, use its value\n",
        "                    elif not np.isnan(left):\n",
        "                        arr[i] = left\n",
        "                    elif not np.isnan(right):\n",
        "                        arr[i] = right\n",
        "            arr_ds[first_index, second_index, :] = arr\n",
        "    return arr_ds\n"
      ]
    },
    {
      "cell_type": "code",
      "execution_count": null,
      "metadata": {
        "colab": {
          "base_uri": "https://localhost:8080/"
        },
        "id": "PzWgSborveQy",
        "outputId": "05c46a86-08d5-4abd-b15c-7deeeeef0c6e"
      },
      "outputs": [
        {
          "name": "stdout",
          "output_type": "stream",
          "text": [
            "Chunk  0\n"
          ]
        },
        {
          "name": "stderr",
          "output_type": "stream",
          "text": [
            "100%|██████████| 184/184 [00:06<00:00, 26.83it/s]\n"
          ]
        },
        {
          "name": "stdout",
          "output_type": "stream",
          "text": [
            "Casting...\n",
            "Chunk  1\n"
          ]
        },
        {
          "name": "stderr",
          "output_type": "stream",
          "text": [
            "100%|██████████| 184/184 [00:04<00:00, 40.34it/s]\n"
          ]
        },
        {
          "name": "stdout",
          "output_type": "stream",
          "text": [
            "Casting...\n",
            "Chunk  2\n"
          ]
        },
        {
          "name": "stderr",
          "output_type": "stream",
          "text": [
            "100%|██████████| 184/184 [00:04<00:00, 42.73it/s]\n"
          ]
        },
        {
          "name": "stdout",
          "output_type": "stream",
          "text": [
            "Casting...\n",
            "Chunk  3\n"
          ]
        },
        {
          "name": "stderr",
          "output_type": "stream",
          "text": [
            "100%|██████████| 184/184 [00:04<00:00, 43.43it/s]\n"
          ]
        },
        {
          "name": "stdout",
          "output_type": "stream",
          "text": [
            "Casting...\n",
            "Chunk  4\n"
          ]
        },
        {
          "name": "stderr",
          "output_type": "stream",
          "text": [
            "100%|██████████| 184/184 [00:03<00:00, 46.84it/s]\n"
          ]
        },
        {
          "name": "stdout",
          "output_type": "stream",
          "text": [
            "Casting...\n",
            "Chunk  5\n"
          ]
        },
        {
          "name": "stderr",
          "output_type": "stream",
          "text": [
            "100%|██████████| 184/184 [00:04<00:00, 39.31it/s]\n"
          ]
        },
        {
          "name": "stdout",
          "output_type": "stream",
          "text": [
            "Casting...\n",
            "Chunk  6\n"
          ]
        },
        {
          "name": "stderr",
          "output_type": "stream",
          "text": [
            "100%|██████████| 184/184 [00:04<00:00, 38.96it/s]\n"
          ]
        },
        {
          "name": "stdout",
          "output_type": "stream",
          "text": [
            "Casting...\n",
            "Chunk  7\n"
          ]
        },
        {
          "name": "stderr",
          "output_type": "stream",
          "text": [
            "100%|██████████| 184/184 [00:04<00:00, 38.22it/s]\n"
          ]
        },
        {
          "name": "stdout",
          "output_type": "stream",
          "text": [
            "Casting...\n",
            "Chunk  8\n"
          ]
        },
        {
          "name": "stderr",
          "output_type": "stream",
          "text": [
            "100%|██████████| 184/184 [00:04<00:00, 40.49it/s]\n"
          ]
        },
        {
          "name": "stdout",
          "output_type": "stream",
          "text": [
            "Casting...\n",
            "Chunk  9\n"
          ]
        },
        {
          "name": "stderr",
          "output_type": "stream",
          "text": [
            "100%|██████████| 184/184 [00:05<00:00, 35.82it/s]\n"
          ]
        },
        {
          "name": "stdout",
          "output_type": "stream",
          "text": [
            "Casting...\n",
            "Chunk  10\n"
          ]
        },
        {
          "name": "stderr",
          "output_type": "stream",
          "text": [
            "100%|██████████| 184/184 [00:05<00:00, 35.51it/s]\n"
          ]
        },
        {
          "name": "stdout",
          "output_type": "stream",
          "text": [
            "Casting...\n",
            "Chunk  11\n"
          ]
        },
        {
          "name": "stderr",
          "output_type": "stream",
          "text": [
            "100%|██████████| 184/184 [00:04<00:00, 41.94it/s]\n"
          ]
        },
        {
          "name": "stdout",
          "output_type": "stream",
          "text": [
            "Casting...\n",
            "Chunk  12\n"
          ]
        },
        {
          "name": "stderr",
          "output_type": "stream",
          "text": [
            "100%|██████████| 184/184 [00:05<00:00, 32.16it/s]\n"
          ]
        },
        {
          "name": "stdout",
          "output_type": "stream",
          "text": [
            "Casting...\n",
            "Chunk  13\n"
          ]
        },
        {
          "name": "stderr",
          "output_type": "stream",
          "text": [
            "100%|██████████| 184/184 [00:05<00:00, 31.91it/s]\n"
          ]
        },
        {
          "name": "stdout",
          "output_type": "stream",
          "text": [
            "Casting...\n",
            "Chunk  14\n"
          ]
        },
        {
          "name": "stderr",
          "output_type": "stream",
          "text": [
            "100%|██████████| 184/184 [00:04<00:00, 37.83it/s]\n"
          ]
        },
        {
          "name": "stdout",
          "output_type": "stream",
          "text": [
            "Casting...\n",
            "Chunk  15\n"
          ]
        },
        {
          "name": "stderr",
          "output_type": "stream",
          "text": [
            "100%|██████████| 184/184 [00:05<00:00, 36.69it/s]\n"
          ]
        },
        {
          "name": "stdout",
          "output_type": "stream",
          "text": [
            "Casting...\n",
            "Chunk  16\n"
          ]
        },
        {
          "name": "stderr",
          "output_type": "stream",
          "text": [
            "100%|██████████| 184/184 [00:05<00:00, 35.20it/s]\n"
          ]
        },
        {
          "name": "stdout",
          "output_type": "stream",
          "text": [
            "Casting...\n",
            "Chunk  17\n"
          ]
        },
        {
          "name": "stderr",
          "output_type": "stream",
          "text": [
            "100%|██████████| 184/184 [00:04<00:00, 42.96it/s]\n"
          ]
        },
        {
          "name": "stdout",
          "output_type": "stream",
          "text": [
            "Casting...\n",
            "Chunk  18\n"
          ]
        },
        {
          "name": "stderr",
          "output_type": "stream",
          "text": [
            "100%|██████████| 184/184 [00:04<00:00, 40.84it/s]\n"
          ]
        },
        {
          "name": "stdout",
          "output_type": "stream",
          "text": [
            "Casting...\n",
            "Chunk  19\n"
          ]
        },
        {
          "name": "stderr",
          "output_type": "stream",
          "text": [
            "100%|██████████| 184/184 [00:05<00:00, 35.02it/s]\n"
          ]
        },
        {
          "name": "stdout",
          "output_type": "stream",
          "text": [
            "Casting...\n"
          ]
        }
      ],
      "source": [
        "trajectory_chunks = split_into_chunks(trajectory_files, 20)\n",
        "trajectory = [np.empty((0,2,2000)) for i in range(20)]\n",
        "\n",
        "with open('mds_catalogue.csv', 'w') as catalogue_file:\n",
        "  for chunk_id, chunk in enumerate(trajectory_chunks):\n",
        "    print('Chunk ', chunk_id)\n",
        "    for file_name in tqdm(chunk):\n",
        "      f = np.load(file_name, allow_pickle=True)['arr_0']\n",
        "      catalogue_file.write(file_name + ',' + str(f.shape[0]) + '\\n')\n",
        "      trajectory[chunk_id] = np.vstack((trajectory[chunk_id], f))\n",
        "    print('Casting...')\n",
        "    trajectory[chunk_id] = trajectory[chunk_id].astype(np.float32)\n",
        "    trajectory[chunk_id] = fill_nan_with_avg(trajectory[chunk_id])\n",
        "  # print('Trajectory shape:', trajectory.shape)"
      ]
    },
    {
      "cell_type": "code",
      "execution_count": null,
      "metadata": {
        "colab": {
          "base_uri": "https://localhost:8080/"
        },
        "id": "gou6pXoe2HZk",
        "outputId": "5850bb40-07cf-4f18-8490-7911ddd50f2e"
      },
      "outputs": [
        {
          "name": "stdout",
          "output_type": "stream",
          "text": [
            "There are 19113 trajectories\n"
          ]
        }
      ],
      "source": [
        "N_trajectories = np.sum(np.array([x.shape[0] for x in trajectory]))\n",
        "print('There are {} trajectories'.format(N_trajectories))"
      ]
    },
    {
      "cell_type": "code",
      "execution_count": null,
      "metadata": {
        "id": "HA8bF_dy3DXk"
      },
      "outputs": [],
      "source": [
        "big_trajectory = np.concatenate(trajectory)"
      ]
    },
    {
      "cell_type": "code",
      "execution_count": null,
      "metadata": {
        "colab": {
          "base_uri": "https://localhost:8080/"
        },
        "id": "PzI0L-wM3ILD",
        "outputId": "2eab989d-2237-4910-d2fb-ee72c577cf71"
      },
      "outputs": [
        {
          "data": {
            "text/plain": [
              "(19113, 2, 2000)"
            ]
          },
          "execution_count": 9,
          "metadata": {},
          "output_type": "execute_result"
        }
      ],
      "source": [
        "big_trajectory.shape"
      ]
    },
    {
      "cell_type": "code",
      "execution_count": null,
      "metadata": {
        "id": "453WAhEPveQ0"
      },
      "outputs": [],
      "source": [
        "# Compte the distance matrix\n",
        "dist = euclidean_distances(big_trajectory.reshape(big_trajectory.shape[0], -1))"
      ]
    },
    {
      "cell_type": "code",
      "execution_count": null,
      "metadata": {
        "colab": {
          "background_save": true,
          "base_uri": "https://localhost:8080/"
        },
        "id": "a-CBWLISveQ1",
        "outputId": "5e408219-47d7-454d-9374-6198cccb3bf5"
      },
      "outputs": [
        {
          "name": "stderr",
          "output_type": "stream",
          "text": [
            "/usr/local/lib/python3.10/dist-packages/sklearn/manifold/_mds.py:299: FutureWarning: The default value of `normalized_stress` will change to `'auto'` in version 1.4. To suppress this warning, manually set the value of `normalized_stress`.\n",
            "  warnings.warn(\n"
          ]
        }
      ],
      "source": [
        "# Compute the MDS\n",
        "mds = MDS(n_components=2, dissimilarity='precomputed')\n",
        "pos = mds.fit_transform(dist)"
      ]
    },
    {
      "cell_type": "code",
      "execution_count": null,
      "metadata": {
        "colab": {
          "background_save": true
        },
        "id": "sDOaFrQn8L1u"
      },
      "outputs": [],
      "source": [
        "np.savez_compressed('mds', pos)"
      ]
    },
    {
      "cell_type": "code",
      "execution_count": null,
      "metadata": {
        "colab": {
          "background_save": true
        },
        "id": "tvwnp6RFveQ2"
      },
      "outputs": [],
      "source": [
        "!cp mds_catalogue.csv /content/drive/MyDrive/mds_catalogue.csv\n",
        "!cp mds.npz /content/drive/MyDrive/mds_pos.npz"
      ]
    }
  ],
  "metadata": {
    "colab": {
      "machine_shape": "hm",
      "provenance": []
    },
    "kernelspec": {
      "display_name": "Python 3",
      "name": "python3"
    },
    "language_info": {
      "codemirror_mode": {
        "name": "ipython",
        "version": 3
      },
      "file_extension": ".py",
      "mimetype": "text/x-python",
      "name": "python",
      "nbconvert_exporter": "python",
      "pygments_lexer": "ipython3",
      "version": "3.9.13"
    }
  },
  "nbformat": 4,
  "nbformat_minor": 0
}