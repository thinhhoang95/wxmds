{
 "cells": [
  {
   "cell_type": "markdown",
   "metadata": {},
   "source": [
    "# Traffic OpenSky Trajectory Download Tutorial"
   ]
  },
  {
   "cell_type": "code",
   "execution_count": 2,
   "metadata": {},
   "outputs": [],
   "source": [
    "import numpy as np\n",
    "import traffic\n",
    "from traffic.data import opensky\n",
    "from matplotlib import pyplot as plt \n",
    "%matplotlib inline"
   ]
  },
  {
   "cell_type": "code",
   "execution_count": 3,
   "metadata": {},
   "outputs": [],
   "source": [
    "opensky.username='thinhhoang'\n",
    "opensky.password='iQ6^yrwe7o3m'"
   ]
  },
  {
   "cell_type": "code",
   "execution_count": 4,
   "metadata": {},
   "outputs": [
    {
     "data": {
      "text/html": [
       "<div>\n",
       "<style scoped>\n",
       "    .dataframe tbody tr th:only-of-type {\n",
       "        vertical-align: middle;\n",
       "    }\n",
       "\n",
       "    .dataframe tbody tr th {\n",
       "        vertical-align: top;\n",
       "    }\n",
       "\n",
       "    .dataframe thead th {\n",
       "        text-align: right;\n",
       "    }\n",
       "</style>\n",
       "<table border=\"1\" class=\"dataframe\">\n",
       "  <thead>\n",
       "    <tr style=\"text-align: right;\">\n",
       "      <th></th>\n",
       "      <th>callsign</th>\n",
       "      <th>day</th>\n",
       "      <th>destination</th>\n",
       "      <th>origin</th>\n",
       "      <th>firstseen</th>\n",
       "      <th>icao24</th>\n",
       "      <th>lastseen</th>\n",
       "    </tr>\n",
       "  </thead>\n",
       "  <tbody>\n",
       "    <tr>\n",
       "      <th>56</th>\n",
       "      <td>AAL1683</td>\n",
       "      <td>2021-05-24 00:00:00+00:00</td>\n",
       "      <td>KDFW</td>\n",
       "      <td>KSLC</td>\n",
       "      <td>2021-05-24 12:52:38+00:00</td>\n",
       "      <td>addb4a</td>\n",
       "      <td>2021-05-24 15:01:13+00:00</td>\n",
       "    </tr>\n",
       "    <tr>\n",
       "      <th>90</th>\n",
       "      <td>SKW3223</td>\n",
       "      <td>2021-05-24 00:00:00+00:00</td>\n",
       "      <td>KDFW</td>\n",
       "      <td>NaN</td>\n",
       "      <td>2021-05-24 13:40:32+00:00</td>\n",
       "      <td>aa0a6e</td>\n",
       "      <td>2021-05-24 15:04:27+00:00</td>\n",
       "    </tr>\n",
       "    <tr>\n",
       "      <th>6</th>\n",
       "      <td>AAL1374</td>\n",
       "      <td>2021-05-24 00:00:00+00:00</td>\n",
       "      <td>KDFW</td>\n",
       "      <td>NaN</td>\n",
       "      <td>2021-05-24 13:08:07+00:00</td>\n",
       "      <td>a4ba76</td>\n",
       "      <td>2021-05-24 15:07:19+00:00</td>\n",
       "    </tr>\n",
       "    <tr>\n",
       "      <th>61</th>\n",
       "      <td>ENY3971</td>\n",
       "      <td>2021-05-24 00:00:00+00:00</td>\n",
       "      <td>KDFW</td>\n",
       "      <td>NaN</td>\n",
       "      <td>2021-05-24 13:31:40+00:00</td>\n",
       "      <td>a1ed5f</td>\n",
       "      <td>2021-05-24 15:17:27+00:00</td>\n",
       "    </tr>\n",
       "    <tr>\n",
       "      <th>30</th>\n",
       "      <td>AAL2588</td>\n",
       "      <td>2021-05-24 00:00:00+00:00</td>\n",
       "      <td>KDFW</td>\n",
       "      <td>NaN</td>\n",
       "      <td>2021-05-24 14:35:09+00:00</td>\n",
       "      <td>abea11</td>\n",
       "      <td>2021-05-24 15:19:27+00:00</td>\n",
       "    </tr>\n",
       "  </tbody>\n",
       "</table>\n",
       "</div>"
      ],
      "text/plain": [
       "   callsign                       day destination origin  \\\n",
       "56  AAL1683 2021-05-24 00:00:00+00:00        KDFW   KSLC   \n",
       "90  SKW3223 2021-05-24 00:00:00+00:00        KDFW    NaN   \n",
       "6   AAL1374 2021-05-24 00:00:00+00:00        KDFW    NaN   \n",
       "61  ENY3971 2021-05-24 00:00:00+00:00        KDFW    NaN   \n",
       "30  AAL2588 2021-05-24 00:00:00+00:00        KDFW    NaN   \n",
       "\n",
       "                   firstseen  icao24                  lastseen  \n",
       "56 2021-05-24 12:52:38+00:00  addb4a 2021-05-24 15:01:13+00:00  \n",
       "90 2021-05-24 13:40:32+00:00  aa0a6e 2021-05-24 15:04:27+00:00  \n",
       "6  2021-05-24 13:08:07+00:00  a4ba76 2021-05-24 15:07:19+00:00  \n",
       "61 2021-05-24 13:31:40+00:00  a1ed5f 2021-05-24 15:17:27+00:00  \n",
       "30 2021-05-24 14:35:09+00:00  abea11 2021-05-24 15:19:27+00:00  "
      ]
     },
     "execution_count": 4,
     "metadata": {},
     "output_type": "execute_result"
    }
   ],
   "source": [
    "fl_list = opensky.flightlist(\"2021-05-24 15:00\", \"2021-05-24 16:30\", arrival_airport='KDFW')\n",
    "fl_list.head()"
   ]
  },
  {
   "cell_type": "code",
   "execution_count": null,
   "metadata": {},
   "outputs": [],
   "source": []
  }
 ],
 "metadata": {
  "kernelspec": {
   "display_name": "traffic",
   "language": "python",
   "name": "python3"
  },
  "language_info": {
   "codemirror_mode": {
    "name": "ipython",
    "version": 3
   },
   "file_extension": ".py",
   "mimetype": "text/x-python",
   "name": "python",
   "nbconvert_exporter": "python",
   "pygments_lexer": "ipython3",
   "version": "3.9.13"
  }
 },
 "nbformat": 4,
 "nbformat_minor": 2
}
